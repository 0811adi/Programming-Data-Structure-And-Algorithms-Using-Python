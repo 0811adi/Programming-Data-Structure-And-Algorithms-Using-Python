{
 "cells": [
  {
   "cell_type": "code",
   "execution_count": 33,
   "id": "6da3b899",
   "metadata": {},
   "outputs": [],
   "source": [
    "# computing gcd(m,n)\n",
    "\n",
    "# gcd(14,63)\n",
    "\n",
    "def gcd(m,n):\n",
    "    fm = []\n",
    "    for i in range(1,m+1):\n",
    "        if (m%i) == 0:\n",
    "            fm.append(i)\n",
    "            \n",
    "    fn = []\n",
    "    for j in range(1,n+1):\n",
    "        if (n%j)==0:\n",
    "            fn.append(j)\n",
    "            \n",
    "    cf = []\n",
    "    for f in fm:\n",
    "        if f in fn:\n",
    "            cf.append(f)\n",
    "            \n",
    "    return(cf[-1])"
   ]
  },
  {
   "cell_type": "code",
   "execution_count": 34,
   "id": "438dc2ae",
   "metadata": {},
   "outputs": [
    {
     "data": {
      "text/plain": [
       "7"
      ]
     },
     "execution_count": 34,
     "metadata": {},
     "output_type": "execute_result"
    }
   ],
   "source": [
    "gcd(14,63)"
   ]
  },
  {
   "cell_type": "code",
   "execution_count": 35,
   "id": "f3135d5e",
   "metadata": {},
   "outputs": [],
   "source": [
    "# we can solve above question in better way\n",
    "\n",
    "def gcd(m,n):\n",
    "    cf = []\n",
    "    for i in range(1,min(m,n)+1):\n",
    "        if (m%i) ==0 and (n%i) == 0:\n",
    "            cf.append(i)\n",
    "            \n",
    "    return(cf[-1])"
   ]
  },
  {
   "cell_type": "code",
   "execution_count": 36,
   "id": "c807c299",
   "metadata": {},
   "outputs": [
    {
     "data": {
      "text/plain": [
       "7"
      ]
     },
     "execution_count": 36,
     "metadata": {},
     "output_type": "execute_result"
    }
   ],
   "source": [
    "gcd(14,63)"
   ]
  },
  {
   "cell_type": "code",
   "execution_count": 37,
   "id": "f1e08472",
   "metadata": {},
   "outputs": [],
   "source": [
    "# we can also find without list\n",
    "\n",
    "def gcd(m,n):\n",
    "    for i in range(1,min(m,n)+1):\n",
    "        if (m%i) ==0 and (n%i) == 0:\n",
    "            mrcf = i      ### mrcf means most recent common factor, it is a inbuit function\n",
    "    \n",
    "    return(mrcf)"
   ]
  },
  {
   "cell_type": "code",
   "execution_count": 38,
   "id": "3097c10a",
   "metadata": {},
   "outputs": [
    {
     "data": {
      "text/plain": [
       "7"
      ]
     },
     "execution_count": 38,
     "metadata": {},
     "output_type": "execute_result"
    }
   ],
   "source": [
    "gcd(14,63)"
   ]
  },
  {
   "cell_type": "code",
   "execution_count": 7,
   "id": "a7baf0f6",
   "metadata": {},
   "outputs": [],
   "source": [
    "# how we will do in backward way\n",
    "\n",
    "def gcd(m,n):\n",
    "    i = min(m,n)\n",
    "    while i>0: # WE use while loop when we dont know in advance how many times we will repeatethe step\n",
    "        if (m%i)==0 and (n%i)==0:\n",
    "            return(i)\n",
    "            \n",
    "        else:\n",
    "            i = i-1 # update i to to i-1"
   ]
  },
  {
   "cell_type": "code",
   "execution_count": 8,
   "id": "588bb52a",
   "metadata": {},
   "outputs": [
    {
     "data": {
      "text/plain": [
       "7"
      ]
     },
     "execution_count": 8,
     "metadata": {},
     "output_type": "execute_result"
    }
   ],
   "source": [
    "gcd(14,63)"
   ]
  },
  {
   "cell_type": "markdown",
   "id": "92cbdeb3",
   "metadata": {},
   "source": [
    "+ for - for loop has fixed number of repitation\n",
    "\n",
    "+ while - while loop used when when we dont know in advance how many times we will repeate the steps"
   ]
  },
  {
   "cell_type": "code",
   "execution_count": 9,
   "id": "e8bebe72",
   "metadata": {},
   "outputs": [],
   "source": [
    " # Euclid's algorithm\n",
    "\n",
    "def gcd(m,n):\n",
    "    # assume m>=n\n",
    "    if m<n:\n",
    "        (m,n) = (n,m)  # here we interchange if m<n\n",
    "        \n",
    "    if (m%n)==0:\n",
    "        return(n)\n",
    "    \n",
    "    else:\n",
    "        diff = m-n\n",
    "        # diff > n? possible!\n",
    "        return(gcd(max(n,diff),min(n,diff)))  # it is called recursion"
   ]
  },
  {
   "cell_type": "code",
   "execution_count": 10,
   "id": "387936cd",
   "metadata": {},
   "outputs": [
    {
     "data": {
      "text/plain": [
       "7"
      ]
     },
     "execution_count": 10,
     "metadata": {},
     "output_type": "execute_result"
    }
   ],
   "source": [
    "gcd(14,63)"
   ]
  },
  {
   "cell_type": "code",
   "execution_count": 11,
   "id": "2b5a1e75",
   "metadata": {},
   "outputs": [],
   "source": [
    "# other version of Euclid's algorithm\n",
    "\n",
    "def gcd(m,n):\n",
    "    # assume m>=n\n",
    "    if m<n:\n",
    "        (m,n) = (n,m)\n",
    "    \n",
    "    while (m%n) != 0:\n",
    "        diff = m-n\n",
    "        \n",
    "        (m,n) = (max(n,diff),min(n,diff)) # ex gcd(101,2),gcd(99,2),...,gcd(5,2),gcd(3,2),gcd(2,1)\n",
    "    return(n)                                                         # so gcd(101,2):- n=1 "
   ]
  },
  {
   "cell_type": "code",
   "execution_count": 12,
   "id": "3b5df5df",
   "metadata": {},
   "outputs": [
    {
     "data": {
      "text/plain": [
       "7"
      ]
     },
     "execution_count": 12,
     "metadata": {},
     "output_type": "execute_result"
    }
   ],
   "source": [
    "gcd(14,63)"
   ]
  },
  {
   "cell_type": "code",
   "execution_count": 13,
   "id": "09acfaf7",
   "metadata": {},
   "outputs": [],
   "source": [
    "# BETTER APPROACH OF EUVLID'S ALGORITHM\n",
    "\n",
    "def gcd(m,n):\n",
    "    if m<n:\n",
    "        (m,n) =(n,m)\n",
    "        \n",
    "    if (m%n)==0:\n",
    "        return(n)\n",
    "    \n",
    "    else:\n",
    "        return(gcd(n,m%n))  # m%n < n, always"
   ]
  },
  {
   "cell_type": "code",
   "execution_count": 14,
   "id": "31502b8d",
   "metadata": {},
   "outputs": [
    {
     "data": {
      "text/plain": [
       "7"
      ]
     },
     "execution_count": 14,
     "metadata": {},
     "output_type": "execute_result"
    }
   ],
   "source": [
    "gcd(14,63)"
   ]
  },
  {
   "cell_type": "code",
   "execution_count": 15,
   "id": "17565b90",
   "metadata": {},
   "outputs": [],
   "source": [
    "def gcd(m,n):\n",
    "    if m<n:\n",
    "        (m,n) =(n,m)\n",
    "        "
   ]
  },
  {
   "cell_type": "code",
   "execution_count": 16,
   "id": "d0c8b217",
   "metadata": {},
   "outputs": [
    {
     "name": "stdout",
     "output_type": "stream",
     "text": [
      "16\n"
     ]
    }
   ],
   "source": [
    "def twice(x):\n",
    "    y = 2*x\n",
    "    return(y)\n",
    "\n",
    "print(twice(8))"
   ]
  },
  {
   "cell_type": "code",
   "execution_count": 17,
   "id": "0bb645d6",
   "metadata": {},
   "outputs": [
    {
     "name": "stdout",
     "output_type": "stream",
     "text": [
      "5 15\n"
     ]
    }
   ],
   "source": [
    "i = 5\n",
    "j = 2*i\n",
    "j = j+5\n",
    "\n",
    "print(i,j)"
   ]
  },
  {
   "cell_type": "code",
   "execution_count": 18,
   "id": "4460da7b",
   "metadata": {},
   "outputs": [
    {
     "data": {
      "text/plain": [
       "(int, int)"
      ]
     },
     "execution_count": 18,
     "metadata": {},
     "output_type": "execute_result"
    }
   ],
   "source": [
    "type(i),type(j)"
   ]
  },
  {
   "cell_type": "code",
   "execution_count": 19,
   "id": "be2b3743",
   "metadata": {},
   "outputs": [],
   "source": [
    "from math import *"
   ]
  },
  {
   "cell_type": "code",
   "execution_count": 20,
   "id": "f6b58d3d",
   "metadata": {},
   "outputs": [],
   "source": [
    "def divide(m,n):\n",
    "    if n%m == 0:\n",
    "        return(True)\n",
    "        \n",
    "    else:\n",
    "        return(False)"
   ]
  },
  {
   "cell_type": "code",
   "execution_count": 21,
   "id": "c28d7fe8",
   "metadata": {},
   "outputs": [
    {
     "data": {
      "text/plain": [
       "False"
      ]
     },
     "execution_count": 21,
     "metadata": {},
     "output_type": "execute_result"
    }
   ],
   "source": [
    "divide(4,14)"
   ]
  },
  {
   "cell_type": "code",
   "execution_count": 22,
   "id": "416a373c",
   "metadata": {},
   "outputs": [],
   "source": [
    "def even(n):\n",
    "    if n%2 == 0:\n",
    "        print('it is even')\n",
    "        \n",
    "    else:\n",
    "        print('it is odd')"
   ]
  },
  {
   "cell_type": "code",
   "execution_count": 23,
   "id": "81ecf46a",
   "metadata": {},
   "outputs": [
    {
     "name": "stdout",
     "output_type": "stream",
     "text": [
      "it is odd\n"
     ]
    }
   ],
   "source": [
    "even(45)"
   ]
  },
  {
   "cell_type": "code",
   "execution_count": 24,
   "id": "7dd8131a",
   "metadata": {},
   "outputs": [],
   "source": [
    "def even(n):\n",
    "    return(divide(2,n))"
   ]
  },
  {
   "cell_type": "code",
   "execution_count": 25,
   "id": "8c63d6c6",
   "metadata": {},
   "outputs": [
    {
     "data": {
      "text/plain": [
       "True"
      ]
     },
     "execution_count": 25,
     "metadata": {},
     "output_type": "execute_result"
    }
   ],
   "source": [
    "even(42)"
   ]
  },
  {
   "cell_type": "code",
   "execution_count": 26,
   "id": "5c8b2409",
   "metadata": {},
   "outputs": [
    {
     "data": {
      "text/plain": [
       "False"
      ]
     },
     "execution_count": 26,
     "metadata": {},
     "output_type": "execute_result"
    }
   ],
   "source": [
    "even(51)"
   ]
  },
  {
   "cell_type": "code",
   "execution_count": 27,
   "id": "cb05aaba",
   "metadata": {},
   "outputs": [],
   "source": [
    "def odd(n):\n",
    "    return(not divide(2,n))"
   ]
  },
  {
   "cell_type": "code",
   "execution_count": 28,
   "id": "97a4850d",
   "metadata": {},
   "outputs": [
    {
     "data": {
      "text/plain": [
       "True"
      ]
     },
     "execution_count": 28,
     "metadata": {},
     "output_type": "execute_result"
    }
   ],
   "source": [
    "odd(41)"
   ]
  },
  {
   "cell_type": "code",
   "execution_count": 29,
   "id": "dc354fb7",
   "metadata": {},
   "outputs": [
    {
     "data": {
      "text/plain": [
       "False"
      ]
     },
     "execution_count": 29,
     "metadata": {},
     "output_type": "execute_result"
    }
   ],
   "source": [
    "odd(42)"
   ]
  },
  {
   "cell_type": "code",
   "execution_count": 30,
   "id": "3c91126e",
   "metadata": {},
   "outputs": [
    {
     "data": {
      "text/plain": [
       "'first line\\nsecond line\\nthird line\\n'"
      ]
     },
     "execution_count": 30,
     "metadata": {},
     "output_type": "execute_result"
    }
   ],
   "source": [
    "myquate = '''first line\n",
    "second line\n",
    "third line\n",
    "'''\n",
    "myquate"
   ]
  },
  {
   "cell_type": "code",
   "execution_count": 31,
   "id": "535595fc",
   "metadata": {},
   "outputs": [
    {
     "data": {
      "text/plain": [
       "'o'"
      ]
     },
     "execution_count": 31,
     "metadata": {},
     "output_type": "execute_result"
    }
   ],
   "source": [
    "s= 'hello'\n",
    "s[-1]"
   ]
  },
  {
   "cell_type": "code",
   "execution_count": 32,
   "id": "22ec5574",
   "metadata": {},
   "outputs": [
    {
     "data": {
      "text/plain": [
       "'l'"
      ]
     },
     "execution_count": 32,
     "metadata": {},
     "output_type": "execute_result"
    }
   ],
   "source": [
    "s[-2]"
   ]
  },
  {
   "cell_type": "code",
   "execution_count": 33,
   "id": "ae6e61a7",
   "metadata": {},
   "outputs": [
    {
     "data": {
      "text/plain": [
       "'hello, there'"
      ]
     },
     "execution_count": 33,
     "metadata": {},
     "output_type": "execute_result"
    }
   ],
   "source": [
    "# concatination\n",
    "t = s + \", there\"\n",
    "t"
   ]
  },
  {
   "cell_type": "code",
   "execution_count": 34,
   "id": "912fcf24",
   "metadata": {},
   "outputs": [],
   "source": [
    "t = 'there'"
   ]
  },
  {
   "cell_type": "code",
   "execution_count": 35,
   "id": "f876689f",
   "metadata": {},
   "outputs": [
    {
     "data": {
      "text/plain": [
       "'hellothere'"
      ]
     },
     "execution_count": 35,
     "metadata": {},
     "output_type": "execute_result"
    }
   ],
   "source": [
    "s+t"
   ]
  },
  {
   "cell_type": "code",
   "execution_count": 36,
   "id": "f5da39f7",
   "metadata": {},
   "outputs": [],
   "source": [
    "t = ' there'"
   ]
  },
  {
   "cell_type": "code",
   "execution_count": 37,
   "id": "48750b57",
   "metadata": {},
   "outputs": [
    {
     "data": {
      "text/plain": [
       "'hello there'"
      ]
     },
     "execution_count": 37,
     "metadata": {},
     "output_type": "execute_result"
    }
   ],
   "source": [
    "s+t"
   ]
  },
  {
   "cell_type": "code",
   "execution_count": 38,
   "id": "02bbf3ce",
   "metadata": {},
   "outputs": [
    {
     "data": {
      "text/plain": [
       "5"
      ]
     },
     "execution_count": 38,
     "metadata": {},
     "output_type": "execute_result"
    }
   ],
   "source": [
    "len(s)"
   ]
  },
  {
   "cell_type": "code",
   "execution_count": 39,
   "id": "bdc816a2",
   "metadata": {},
   "outputs": [
    {
     "data": {
      "text/plain": [
       "'ell'"
      ]
     },
     "execution_count": 39,
     "metadata": {},
     "output_type": "execute_result"
    }
   ],
   "source": [
    "# extracting substring\n",
    "\n",
    "# Slice\n",
    "\n",
    "s= 'hello'\n",
    "s[1:4]"
   ]
  },
  {
   "cell_type": "code",
   "execution_count": 40,
   "id": "c913987e",
   "metadata": {},
   "outputs": [
    {
     "data": {
      "text/plain": [
       "'hell'"
      ]
     },
     "execution_count": 40,
     "metadata": {},
     "output_type": "execute_result"
    }
   ],
   "source": [
    "s[:4]"
   ]
  },
  {
   "cell_type": "code",
   "execution_count": 41,
   "id": "1c188a6a",
   "metadata": {},
   "outputs": [
    {
     "data": {
      "text/plain": [
       "'llo'"
      ]
     },
     "execution_count": 41,
     "metadata": {},
     "output_type": "execute_result"
    }
   ],
   "source": [
    "s[2:]"
   ]
  },
  {
   "cell_type": "code",
   "execution_count": 42,
   "id": "d44e8c9d",
   "metadata": {},
   "outputs": [
    {
     "data": {
      "text/plain": [
       "'help!'"
      ]
     },
     "execution_count": 42,
     "metadata": {},
     "output_type": "execute_result"
    }
   ],
   "source": [
    "# s= 'hello', want to change to \"help!\"\n",
    "s = s[:3]+\"p!\"\n",
    "s"
   ]
  },
  {
   "cell_type": "code",
   "execution_count": 23,
   "id": "48acd806",
   "metadata": {},
   "outputs": [],
   "source": [
    "def reversenot(s_n):\n",
    "    str = \" \"\n",
    "    for i in s:\n",
    "        str = str + i\n",
    "    return(str)    "
   ]
  },
  {
   "cell_type": "code",
   "execution_count": 22,
   "id": "7b4feda0",
   "metadata": {},
   "outputs": [],
   "source": [
    "s_n  = \"hello\""
   ]
  },
  {
   "cell_type": "code",
   "execution_count": 24,
   "id": "611a5a26",
   "metadata": {},
   "outputs": [
    {
     "data": {
      "text/plain": [
       "' hello'"
      ]
     },
     "execution_count": 24,
     "metadata": {},
     "output_type": "execute_result"
    }
   ],
   "source": [
    "reversenot(s_n)"
   ]
  },
  {
   "cell_type": "code",
   "execution_count": 25,
   "id": "dfc3fbc9",
   "metadata": {},
   "outputs": [],
   "source": [
    "def reverse(s):\n",
    "    str = \" \"\n",
    "    for i in s:\n",
    "        str = i + str\n",
    "    return(str)   "
   ]
  },
  {
   "cell_type": "code",
   "execution_count": 26,
   "id": "00308975",
   "metadata": {},
   "outputs": [],
   "source": [
    "s = 'hello'"
   ]
  },
  {
   "cell_type": "code",
   "execution_count": 28,
   "id": "ec5dc3d7",
   "metadata": {},
   "outputs": [
    {
     "data": {
      "text/plain": [
       "'olleh '"
      ]
     },
     "execution_count": 28,
     "metadata": {},
     "output_type": "execute_result"
    }
   ],
   "source": [
    "reverse(s)"
   ]
  },
  {
   "cell_type": "code",
   "execution_count": 29,
   "id": "c9cf852c",
   "metadata": {},
   "outputs": [],
   "source": [
    "s = \"hello\""
   ]
  },
  {
   "cell_type": "code",
   "execution_count": 30,
   "id": "e5de11dc",
   "metadata": {},
   "outputs": [
    {
     "data": {
      "text/plain": [
       "'olleh'"
      ]
     },
     "execution_count": 30,
     "metadata": {},
     "output_type": "execute_result"
    }
   ],
   "source": [
    "s[::-1]  # reverse the string"
   ]
  },
  {
   "cell_type": "markdown",
   "id": "308bcbeb",
   "metadata": {},
   "source": [
    "# List"
   ]
  },
  {
   "cell_type": "code",
   "execution_count": 43,
   "id": "22f408b1",
   "metadata": {},
   "outputs": [],
   "source": [
    "factor = [1,2,5,10]\n",
    "names = [\"ram\",\"mohan\",\"john\"]\n",
    "mixed = [3,True,\"yellow\"]"
   ]
  },
  {
   "cell_type": "code",
   "execution_count": 44,
   "id": "16bffd89",
   "metadata": {},
   "outputs": [
    {
     "data": {
      "text/plain": [
       "10"
      ]
     },
     "execution_count": 44,
     "metadata": {},
     "output_type": "execute_result"
    }
   ],
   "source": [
    "factor[3]"
   ]
  },
  {
   "cell_type": "code",
   "execution_count": 45,
   "id": "6c99f385",
   "metadata": {},
   "outputs": [
    {
     "data": {
      "text/plain": [
       "[3, True]"
      ]
     },
     "execution_count": 45,
     "metadata": {},
     "output_type": "execute_result"
    }
   ],
   "source": [
    "mixed[0:2]"
   ]
  },
  {
   "cell_type": "code",
   "execution_count": 46,
   "id": "33db6595",
   "metadata": {},
   "outputs": [
    {
     "data": {
      "text/plain": [
       "[3, True]"
      ]
     },
     "execution_count": 46,
     "metadata": {},
     "output_type": "execute_result"
    }
   ],
   "source": [
    "mixed[:2]"
   ]
  },
  {
   "cell_type": "code",
   "execution_count": 47,
   "id": "c356deba",
   "metadata": {},
   "outputs": [
    {
     "data": {
      "text/plain": [
       "[True, 'yellow']"
      ]
     },
     "execution_count": 47,
     "metadata": {},
     "output_type": "execute_result"
    }
   ],
   "source": [
    "mixed[1:]"
   ]
  },
  {
   "cell_type": "code",
   "execution_count": 48,
   "id": "34d66c5b",
   "metadata": {},
   "outputs": [
    {
     "data": {
      "text/plain": [
       "3"
      ]
     },
     "execution_count": 48,
     "metadata": {},
     "output_type": "execute_result"
    }
   ],
   "source": [
    "len(mixed)"
   ]
  },
  {
   "cell_type": "code",
   "execution_count": 49,
   "id": "f234e54c",
   "metadata": {},
   "outputs": [
    {
     "data": {
      "text/plain": [
       "1"
      ]
     },
     "execution_count": 49,
     "metadata": {},
     "output_type": "execute_result"
    }
   ],
   "source": [
    "factor[0]"
   ]
  },
  {
   "cell_type": "code",
   "execution_count": 50,
   "id": "fefc1e15",
   "metadata": {},
   "outputs": [
    {
     "data": {
      "text/plain": [
       "[1]"
      ]
     },
     "execution_count": 50,
     "metadata": {},
     "output_type": "execute_result"
    }
   ],
   "source": [
    "factor[0:1]"
   ]
  },
  {
   "cell_type": "code",
   "execution_count": 31,
   "id": "9a28c20b",
   "metadata": {},
   "outputs": [],
   "source": [
    "l = [5,6,6,4,4,5,8,4]"
   ]
  },
  {
   "cell_type": "code",
   "execution_count": 32,
   "id": "744eb8b5",
   "metadata": {},
   "outputs": [
    {
     "data": {
      "text/plain": [
       "[4, 8, 5, 4, 4, 6, 6, 5]"
      ]
     },
     "execution_count": 32,
     "metadata": {},
     "output_type": "execute_result"
    }
   ],
   "source": [
    "l[::-1]"
   ]
  },
  {
   "cell_type": "markdown",
   "id": "e6a8a666",
   "metadata": {},
   "source": [
    "# Nested list"
   ]
  },
  {
   "cell_type": "code",
   "execution_count": 51,
   "id": "f46b2cfd",
   "metadata": {},
   "outputs": [],
   "source": [
    "nested = [[2,[37]],4,[\"hello\"]]"
   ]
  },
  {
   "cell_type": "code",
   "execution_count": 52,
   "id": "3373efb5",
   "metadata": {},
   "outputs": [
    {
     "data": {
      "text/plain": [
       "[2, [37]]"
      ]
     },
     "execution_count": 52,
     "metadata": {},
     "output_type": "execute_result"
    }
   ],
   "source": [
    "nested[0]"
   ]
  },
  {
   "cell_type": "code",
   "execution_count": 53,
   "id": "1a67b757",
   "metadata": {},
   "outputs": [
    {
     "data": {
      "text/plain": [
       "[37]"
      ]
     },
     "execution_count": 53,
     "metadata": {},
     "output_type": "execute_result"
    }
   ],
   "source": [
    "nested[0][1]"
   ]
  },
  {
   "cell_type": "code",
   "execution_count": 54,
   "id": "593c8f7c",
   "metadata": {},
   "outputs": [
    {
     "data": {
      "text/plain": [
       "4"
      ]
     },
     "execution_count": 54,
     "metadata": {},
     "output_type": "execute_result"
    }
   ],
   "source": [
    "nested[1]"
   ]
  },
  {
   "cell_type": "code",
   "execution_count": 55,
   "id": "54ce6eaf",
   "metadata": {},
   "outputs": [
    {
     "data": {
      "text/plain": [
       "'l'"
      ]
     },
     "execution_count": 55,
     "metadata": {},
     "output_type": "execute_result"
    }
   ],
   "source": [
    "nested[2][0][3]   # [0] FOR STRING"
   ]
  },
  {
   "cell_type": "code",
   "execution_count": 56,
   "id": "64247add",
   "metadata": {},
   "outputs": [
    {
     "data": {
      "text/plain": [
       "[[37]]"
      ]
     },
     "execution_count": 56,
     "metadata": {},
     "output_type": "execute_result"
    }
   ],
   "source": [
    "nested[0][1:2]   # slices gives list"
   ]
  },
  {
   "cell_type": "markdown",
   "id": "506d89d5",
   "metadata": {},
   "source": [
    "# updating list"
   ]
  },
  {
   "cell_type": "code",
   "execution_count": 57,
   "id": "c68cab41",
   "metadata": {},
   "outputs": [],
   "source": [
    "nested[1]=7\n",
    "nested[0][1][0]=19"
   ]
  },
  {
   "cell_type": "code",
   "execution_count": 58,
   "id": "bceb05aa",
   "metadata": {},
   "outputs": [
    {
     "data": {
      "text/plain": [
       "[[2, [19]], 7, ['hello']]"
      ]
     },
     "execution_count": 58,
     "metadata": {},
     "output_type": "execute_result"
    }
   ],
   "source": [
    "nested"
   ]
  },
  {
   "cell_type": "code",
   "execution_count": 59,
   "id": "321015cf",
   "metadata": {},
   "outputs": [
    {
     "name": "stdout",
     "output_type": "stream",
     "text": [
      "5\n"
     ]
    }
   ],
   "source": [
    "x=5\n",
    "y=x\n",
    "x=7\n",
    "print(y)"
   ]
  },
  {
   "cell_type": "code",
   "execution_count": 60,
   "id": "720c1516",
   "metadata": {},
   "outputs": [],
   "source": [
    "list1 = [1,3,5,7]\n",
    "list2 = list1\n",
    "list1[2] = 4"
   ]
  },
  {
   "cell_type": "code",
   "execution_count": 61,
   "id": "2b123654",
   "metadata": {},
   "outputs": [
    {
     "data": {
      "text/plain": [
       "4"
      ]
     },
     "execution_count": 61,
     "metadata": {},
     "output_type": "execute_result"
    }
   ],
   "source": [
    "list2[2]"
   ]
  },
  {
   "cell_type": "markdown",
   "id": "61b8ac87",
   "metadata": {},
   "source": [
    "# coping lists"
   ]
  },
  {
   "cell_type": "code",
   "execution_count": 62,
   "id": "ead4c877",
   "metadata": {},
   "outputs": [],
   "source": [
    "list1= [1,3,5,7]\n",
    "list2 = list1[:]"
   ]
  },
  {
   "cell_type": "code",
   "execution_count": 63,
   "id": "e1718ea3",
   "metadata": {},
   "outputs": [
    {
     "name": "stdout",
     "output_type": "stream",
     "text": [
      "[1, 3, 5, 7]\n",
      "[1, 3, 5, 7]\n"
     ]
    }
   ],
   "source": [
    "print(list1)\n",
    "print(list2)"
   ]
  },
  {
   "cell_type": "code",
   "execution_count": 64,
   "id": "77ddf4b3",
   "metadata": {},
   "outputs": [
    {
     "data": {
      "text/plain": [
       "[1, 4, 5, 7]"
      ]
     },
     "execution_count": 64,
     "metadata": {},
     "output_type": "execute_result"
    }
   ],
   "source": [
    "list1[1]=4\n",
    "list1"
   ]
  },
  {
   "cell_type": "code",
   "execution_count": 65,
   "id": "91266011",
   "metadata": {},
   "outputs": [
    {
     "data": {
      "text/plain": [
       "[1, 3, 5, 7]"
      ]
     },
     "execution_count": 65,
     "metadata": {},
     "output_type": "execute_result"
    }
   ],
   "source": [
    "list2"
   ]
  },
  {
   "cell_type": "code",
   "execution_count": 66,
   "id": "4a8b93ba",
   "metadata": {},
   "outputs": [],
   "source": [
    "# Digression on equality\n",
    "list1 = [1,3,5,7]\n",
    "list2 = [1,3,5,7]\n",
    "list3 = list2"
   ]
  },
  {
   "cell_type": "code",
   "execution_count": 67,
   "id": "a6fe144c",
   "metadata": {},
   "outputs": [],
   "source": [
    "# x==y checks if x and y have same value\n",
    "# x is y checks x and y refers to same objectl"
   ]
  },
  {
   "cell_type": "code",
   "execution_count": 68,
   "id": "9ed5acda",
   "metadata": {},
   "outputs": [
    {
     "data": {
      "text/plain": [
       "True"
      ]
     },
     "execution_count": 68,
     "metadata": {},
     "output_type": "execute_result"
    }
   ],
   "source": [
    "list1 == list2"
   ]
  },
  {
   "cell_type": "code",
   "execution_count": 69,
   "id": "6936c06c",
   "metadata": {},
   "outputs": [
    {
     "data": {
      "text/plain": [
       "True"
      ]
     },
     "execution_count": 69,
     "metadata": {},
     "output_type": "execute_result"
    }
   ],
   "source": [
    "list2 == list3"
   ]
  },
  {
   "cell_type": "code",
   "execution_count": 70,
   "id": "c88ac057",
   "metadata": {},
   "outputs": [
    {
     "data": {
      "text/plain": [
       "False"
      ]
     },
     "execution_count": 70,
     "metadata": {},
     "output_type": "execute_result"
    }
   ],
   "source": [
    "list1 is list2"
   ]
  },
  {
   "cell_type": "code",
   "execution_count": 71,
   "id": "dd90119e",
   "metadata": {},
   "outputs": [
    {
     "data": {
      "text/plain": [
       "True"
      ]
     },
     "execution_count": 71,
     "metadata": {},
     "output_type": "execute_result"
    }
   ],
   "source": [
    "list2 is list3"
   ]
  },
  {
   "cell_type": "markdown",
   "id": "b552b973",
   "metadata": {},
   "source": [
    "## concatenation"
   ]
  },
  {
   "cell_type": "code",
   "execution_count": 72,
   "id": "ad65af9e",
   "metadata": {},
   "outputs": [
    {
     "data": {
      "text/plain": [
       "[1, 3, 5, 7, 2, 4, 6, 8]"
      ]
     },
     "execution_count": 72,
     "metadata": {},
     "output_type": "execute_result"
    }
   ],
   "source": [
    "list1 = [1,3,5,7]\n",
    "list2 = [2,4,6,8]\n",
    "list3 = list1 + list2\n",
    "list3"
   ]
  },
  {
   "cell_type": "code",
   "execution_count": 73,
   "id": "177d52a7",
   "metadata": {},
   "outputs": [
    {
     "data": {
      "text/plain": [
       "[1, 3, 5, 7, 9]"
      ]
     },
     "execution_count": 73,
     "metadata": {},
     "output_type": "execute_result"
    }
   ],
   "source": [
    "list1 = [1,3,5,7]\n",
    "list2 = list1\n",
    "list1 = list1+[9]\n",
    "list1"
   ]
  },
  {
   "cell_type": "code",
   "execution_count": 74,
   "id": "afd34ac2",
   "metadata": {},
   "outputs": [
    {
     "data": {
      "text/plain": [
       "False"
      ]
     },
     "execution_count": 74,
     "metadata": {},
     "output_type": "execute_result"
    }
   ],
   "source": [
    "list1 is list2"
   ]
  },
  {
   "cell_type": "code",
   "execution_count": 75,
   "id": "102818ec",
   "metadata": {},
   "outputs": [
    {
     "data": {
      "text/plain": [
       "[1, 3, 5, 7]"
      ]
     },
     "execution_count": 75,
     "metadata": {},
     "output_type": "execute_result"
    }
   ],
   "source": [
    "list2"
   ]
  },
  {
   "cell_type": "markdown",
   "id": "086383d5",
   "metadata": {},
   "source": [
    "# Control Flow"
   ]
  },
  {
   "cell_type": "code",
   "execution_count": 76,
   "id": "8da281f0",
   "metadata": {},
   "outputs": [],
   "source": [
    "if x == 1:\n",
    "    y = f1(x)\n",
    "else:\n",
    "    if x ==2:\n",
    "        y = f2(x)\n",
    "    else:\n",
    "        if x==3:\n",
    "            y = f3(x)\n",
    "   #    else:\n",
    "    #        y = f4(x)\n",
    "            "
   ]
  },
  {
   "cell_type": "code",
   "execution_count": 77,
   "id": "29389b22",
   "metadata": {},
   "outputs": [],
   "source": [
    "# same as above\n",
    "if x == 1:\n",
    "    y = f1(x)\n",
    "elif x==2:\n",
    "    y = f2(x)\n",
    "elif x == 3:\n",
    "    y = f3(x)\n",
    "#else:\n",
    "#    y = f4(x)"
   ]
  },
  {
   "cell_type": "markdown",
   "id": "e2d14fd9",
   "metadata": {},
   "source": [
    "# Loops"
   ]
  },
  {
   "cell_type": "code",
   "execution_count": 78,
   "id": "c75d85a5",
   "metadata": {},
   "outputs": [],
   "source": [
    "y = z= k= 1\n",
    "for i in [1,2,3,4]:\n",
    "    y = y*i     # y*1*2*3*4\n",
    "    z = z+1     # z+1+1+1+1\n",
    "    k = k+2     # k+2+2+2+2"
   ]
  },
  {
   "cell_type": "code",
   "execution_count": 79,
   "id": "b063eef6",
   "metadata": {},
   "outputs": [
    {
     "name": "stdout",
     "output_type": "stream",
     "text": [
      "24 5 9\n"
     ]
    }
   ],
   "source": [
    "print(y,z,k)"
   ]
  },
  {
   "cell_type": "code",
   "execution_count": 80,
   "id": "cff3369e",
   "metadata": {},
   "outputs": [],
   "source": [
    "# for i in [1,2,3,....,n] == for i in range(0,n)"
   ]
  },
  {
   "cell_type": "code",
   "execution_count": 81,
   "id": "41f5b2bd",
   "metadata": {},
   "outputs": [],
   "source": [
    "# find all the factor of number n\n",
    "def factors(n):\n",
    "    flist = []\n",
    "    for i in range(1,n+1):\n",
    "        if n%i == 0:\n",
    "            flist = flist+[i]\n",
    "\n",
    "    return(flist)"
   ]
  },
  {
   "cell_type": "code",
   "execution_count": 82,
   "id": "cd4c4a1f",
   "metadata": {},
   "outputs": [
    {
     "data": {
      "text/plain": [
       "[1, 3, 5, 9, 15, 45]"
      ]
     },
     "execution_count": 82,
     "metadata": {},
     "output_type": "execute_result"
    }
   ],
   "source": [
    "factors(45)"
   ]
  },
  {
   "cell_type": "code",
   "execution_count": 83,
   "id": "74ed8369",
   "metadata": {},
   "outputs": [],
   "source": [
    "def gcd(m,n):\n",
    "    if m<n:\n",
    "        (m,n)=(n,m)\n",
    "    while m%n != 0:\n",
    "        (m,n) = (n,m%n)\n",
    "    return(n)"
   ]
  },
  {
   "cell_type": "code",
   "execution_count": 84,
   "id": "408268e1",
   "metadata": {},
   "outputs": [
    {
     "data": {
      "text/plain": [
       "1"
      ]
     },
     "execution_count": 84,
     "metadata": {},
     "output_type": "execute_result"
    }
   ],
   "source": [
    "gcd(123,34556)"
   ]
  },
  {
   "cell_type": "code",
   "execution_count": 85,
   "id": "416dd85c",
   "metadata": {},
   "outputs": [],
   "source": [
    "y = z= k=p= 2\n",
    "for i in [1,2,3,4]:\n",
    "    y = y*i     # y*1*2*3*4\n",
    "    z = z+1     # z+1+1+1+1\n",
    "    k = k+2     # k+2+2+2+2\n",
    "    p = p*3     # p*3*3*3*3"
   ]
  },
  {
   "cell_type": "code",
   "execution_count": 86,
   "id": "312f5eb7",
   "metadata": {},
   "outputs": [
    {
     "name": "stdout",
     "output_type": "stream",
     "text": [
      "48 6 10 162\n"
     ]
    }
   ],
   "source": [
    "print(y,z,k,p)"
   ]
  },
  {
   "cell_type": "markdown",
   "id": "8a7a9f08",
   "metadata": {},
   "source": [
    "# Function"
   ]
  },
  {
   "cell_type": "code",
   "execution_count": 87,
   "id": "84d9ef30",
   "metadata": {},
   "outputs": [],
   "source": [
    "def power(x,n):\n",
    "    ans = 1\n",
    "    for i in range(0,n):\n",
    "        ans = ans*x\n",
    "    return(ans)"
   ]
  },
  {
   "cell_type": "code",
   "execution_count": 88,
   "id": "63eeef5e",
   "metadata": {},
   "outputs": [
    {
     "data": {
      "text/plain": [
       "243"
      ]
     },
     "execution_count": 88,
     "metadata": {},
     "output_type": "execute_result"
    }
   ],
   "source": [
    "power(3,5)"
   ]
  },
  {
   "cell_type": "code",
   "execution_count": 89,
   "id": "919be2c1",
   "metadata": {},
   "outputs": [
    {
     "data": {
      "text/plain": [
       "5"
      ]
     },
     "execution_count": 89,
     "metadata": {},
     "output_type": "execute_result"
    }
   ],
   "source": [
    "len(range(0,5))"
   ]
  },
  {
   "cell_type": "code",
   "execution_count": 90,
   "id": "e35e21cd",
   "metadata": {},
   "outputs": [],
   "source": [
    "def update(l,i,v):  # where l is list, i is position, v is updated value\n",
    "    if i>=0 and i<len(l):\n",
    "        l[i] = v\n",
    "        return(True)\n",
    "    else:\n",
    "        v = v+1\n",
    "        return(False)"
   ]
  },
  {
   "cell_type": "code",
   "execution_count": 91,
   "id": "3e7081ee",
   "metadata": {},
   "outputs": [
    {
     "data": {
      "text/plain": [
       "True"
      ]
     },
     "execution_count": 91,
     "metadata": {},
     "output_type": "execute_result"
    }
   ],
   "source": [
    "ns = [3,11,12]\n",
    "z = 8\n",
    "update(ns,2,z)\n"
   ]
  },
  {
   "cell_type": "code",
   "execution_count": 92,
   "id": "5fe23e04",
   "metadata": {},
   "outputs": [
    {
     "data": {
      "text/plain": [
       "[3, 11, 8]"
      ]
     },
     "execution_count": 92,
     "metadata": {},
     "output_type": "execute_result"
    }
   ],
   "source": [
    "ns"
   ]
  },
  {
   "cell_type": "code",
   "execution_count": 93,
   "id": "98cec2b6",
   "metadata": {},
   "outputs": [
    {
     "data": {
      "text/plain": [
       "False"
      ]
     },
     "execution_count": 93,
     "metadata": {},
     "output_type": "execute_result"
    }
   ],
   "source": [
    "update(ns,4,z)"
   ]
  },
  {
   "cell_type": "code",
   "execution_count": 94,
   "id": "536703e9",
   "metadata": {},
   "outputs": [
    {
     "data": {
      "text/plain": [
       "[3, 11, 8]"
      ]
     },
     "execution_count": 94,
     "metadata": {},
     "output_type": "execute_result"
    }
   ],
   "source": [
    "ns"
   ]
  },
  {
   "cell_type": "code",
   "execution_count": 95,
   "id": "ceab228c",
   "metadata": {},
   "outputs": [],
   "source": [
    "def stupid(x):\n",
    "    n = 17         # here n is inside function\n",
    "    return(x)"
   ]
  },
  {
   "cell_type": "code",
   "execution_count": 96,
   "id": "50351522",
   "metadata": {},
   "outputs": [],
   "source": [
    "n = 7  # here n is outside function so there is no effect of inside n on outside n\n",
    "v= stupid(28)"
   ]
  },
  {
   "cell_type": "code",
   "execution_count": 97,
   "id": "7c4e2b75",
   "metadata": {},
   "outputs": [
    {
     "data": {
      "text/plain": [
       "7"
      ]
     },
     "execution_count": 97,
     "metadata": {},
     "output_type": "execute_result"
    }
   ],
   "source": [
    "n"
   ]
  },
  {
   "cell_type": "code",
   "execution_count": 98,
   "id": "37c68120",
   "metadata": {},
   "outputs": [
    {
     "data": {
      "text/plain": [
       "81"
      ]
     },
     "execution_count": 98,
     "metadata": {},
     "output_type": "execute_result"
    }
   ],
   "source": [
    "def f(x):\n",
    "    return (g(x+1))\n",
    "\n",
    "def g(y):\n",
    "    return(y+3)\n",
    "\n",
    "f(77) # f(77)--->g(78)--->then it return y+3=81"
   ]
  },
  {
   "cell_type": "code",
   "execution_count": 99,
   "id": "32e33d45",
   "metadata": {},
   "outputs": [
    {
     "ename": "NameError",
     "evalue": "name 'q' is not defined",
     "output_type": "error",
     "traceback": [
      "\u001b[1;31m---------------------------------------------------------------------------\u001b[0m",
      "\u001b[1;31mNameError\u001b[0m                                 Traceback (most recent call last)",
      "\u001b[1;32m~\\AppData\\Local\\Temp\\ipykernel_11208\\1495047126.py\u001b[0m in \u001b[0;36m<module>\u001b[1;34m\u001b[0m\n\u001b[0;32m      1\u001b[0m \u001b[1;32mdef\u001b[0m \u001b[0mp\u001b[0m\u001b[1;33m(\u001b[0m\u001b[0mx\u001b[0m\u001b[1;33m)\u001b[0m\u001b[1;33m:\u001b[0m\u001b[1;33m\u001b[0m\u001b[1;33m\u001b[0m\u001b[0m\n\u001b[0;32m      2\u001b[0m     \u001b[1;32mreturn\u001b[0m \u001b[1;33m(\u001b[0m\u001b[0mq\u001b[0m\u001b[1;33m(\u001b[0m\u001b[0mx\u001b[0m\u001b[1;33m+\u001b[0m\u001b[1;36m1\u001b[0m\u001b[1;33m)\u001b[0m\u001b[1;33m)\u001b[0m\u001b[1;33m\u001b[0m\u001b[1;33m\u001b[0m\u001b[0m\n\u001b[1;32m----> 3\u001b[1;33m \u001b[0mp\u001b[0m\u001b[1;33m(\u001b[0m\u001b[1;36m77\u001b[0m\u001b[1;33m)\u001b[0m \u001b[1;31m# p(77)--->q(78)---> after that they not found q function thats why it show error\u001b[0m\u001b[1;33m\u001b[0m\u001b[1;33m\u001b[0m\u001b[0m\n\u001b[0m\u001b[0;32m      4\u001b[0m \u001b[1;32mdef\u001b[0m \u001b[0mq\u001b[0m\u001b[1;33m(\u001b[0m\u001b[0my\u001b[0m\u001b[1;33m)\u001b[0m\u001b[1;33m:\u001b[0m\u001b[1;33m\u001b[0m\u001b[1;33m\u001b[0m\u001b[0m\n\u001b[0;32m      5\u001b[0m     \u001b[1;32mreturn\u001b[0m\u001b[1;33m(\u001b[0m\u001b[0my\u001b[0m\u001b[1;33m+\u001b[0m\u001b[1;36m3\u001b[0m\u001b[1;33m)\u001b[0m \u001b[1;31m# here it shows error\u001b[0m\u001b[1;33m\u001b[0m\u001b[1;33m\u001b[0m\u001b[0m\n",
      "\u001b[1;32m~\\AppData\\Local\\Temp\\ipykernel_11208\\1495047126.py\u001b[0m in \u001b[0;36mp\u001b[1;34m(x)\u001b[0m\n\u001b[0;32m      1\u001b[0m \u001b[1;32mdef\u001b[0m \u001b[0mp\u001b[0m\u001b[1;33m(\u001b[0m\u001b[0mx\u001b[0m\u001b[1;33m)\u001b[0m\u001b[1;33m:\u001b[0m\u001b[1;33m\u001b[0m\u001b[1;33m\u001b[0m\u001b[0m\n\u001b[1;32m----> 2\u001b[1;33m     \u001b[1;32mreturn\u001b[0m \u001b[1;33m(\u001b[0m\u001b[0mq\u001b[0m\u001b[1;33m(\u001b[0m\u001b[0mx\u001b[0m\u001b[1;33m+\u001b[0m\u001b[1;36m1\u001b[0m\u001b[1;33m)\u001b[0m\u001b[1;33m)\u001b[0m\u001b[1;33m\u001b[0m\u001b[1;33m\u001b[0m\u001b[0m\n\u001b[0m\u001b[0;32m      3\u001b[0m \u001b[0mp\u001b[0m\u001b[1;33m(\u001b[0m\u001b[1;36m77\u001b[0m\u001b[1;33m)\u001b[0m \u001b[1;31m# p(77)--->q(78)---> after that they not found q function thats why it show error\u001b[0m\u001b[1;33m\u001b[0m\u001b[1;33m\u001b[0m\u001b[0m\n\u001b[0;32m      4\u001b[0m \u001b[1;32mdef\u001b[0m \u001b[0mq\u001b[0m\u001b[1;33m(\u001b[0m\u001b[0my\u001b[0m\u001b[1;33m)\u001b[0m\u001b[1;33m:\u001b[0m\u001b[1;33m\u001b[0m\u001b[1;33m\u001b[0m\u001b[0m\n\u001b[0;32m      5\u001b[0m     \u001b[1;32mreturn\u001b[0m\u001b[1;33m(\u001b[0m\u001b[0my\u001b[0m\u001b[1;33m+\u001b[0m\u001b[1;36m3\u001b[0m\u001b[1;33m)\u001b[0m \u001b[1;31m# here it shows error\u001b[0m\u001b[1;33m\u001b[0m\u001b[1;33m\u001b[0m\u001b[0m\n",
      "\u001b[1;31mNameError\u001b[0m: name 'q' is not defined"
     ]
    }
   ],
   "source": [
    "def p(x):\n",
    "    return (q(x+1))\n",
    "p(77) # p(77)--->q(78)---> after that they not found q function thats why it show error\n",
    "def q(y):\n",
    "    return(y+3) # here it shows error"
   ]
  },
  {
   "cell_type": "markdown",
   "id": "6fc11ff3",
   "metadata": {},
   "source": [
    "# Recursive Function\n",
    "A function can call itself is called recursion"
   ]
  },
  {
   "cell_type": "code",
   "execution_count": 100,
   "id": "94ad099d",
   "metadata": {},
   "outputs": [],
   "source": [
    "def factorial(n):\n",
    "    if n <= 0:\n",
    "        return(1)\n",
    "    else:\n",
    "        val = n * factorial(n-1)\n",
    "        return(val)"
   ]
  },
  {
   "cell_type": "code",
   "execution_count": 101,
   "id": "630d96dc",
   "metadata": {},
   "outputs": [
    {
     "data": {
      "text/plain": [
       "120"
      ]
     },
     "execution_count": 101,
     "metadata": {},
     "output_type": "execute_result"
    }
   ],
   "source": [
    "factorial(5)"
   ]
  },
  {
   "cell_type": "code",
   "execution_count": 102,
   "id": "27b388bf",
   "metadata": {},
   "outputs": [
    {
     "data": {
      "text/plain": [
       "24"
      ]
     },
     "execution_count": 102,
     "metadata": {},
     "output_type": "execute_result"
    }
   ],
   "source": [
    "factorial(4)"
   ]
  },
  {
   "cell_type": "code",
   "execution_count": 103,
   "id": "afdffb63",
   "metadata": {},
   "outputs": [],
   "source": [
    "def fact(n):\n",
    "    if n<=0:\n",
    "        return 1\n",
    "    else:\n",
    "        val = n*fact(n-1)\n",
    "        return(val)"
   ]
  },
  {
   "cell_type": "code",
   "execution_count": 104,
   "id": "a59e695d",
   "metadata": {},
   "outputs": [
    {
     "data": {
      "text/plain": [
       "120"
      ]
     },
     "execution_count": 104,
     "metadata": {},
     "output_type": "execute_result"
    }
   ],
   "source": [
    "fact(5)"
   ]
  },
  {
   "cell_type": "code",
   "execution_count": 105,
   "id": "ffefab6e",
   "metadata": {},
   "outputs": [
    {
     "data": {
      "text/plain": [
       "1"
      ]
     },
     "execution_count": 105,
     "metadata": {},
     "output_type": "execute_result"
    }
   ],
   "source": [
    "fact(0)"
   ]
  },
  {
   "cell_type": "markdown",
   "id": "63df1044",
   "metadata": {},
   "source": [
    "#### examples of function"
   ]
  },
  {
   "cell_type": "code",
   "execution_count": 56,
   "id": "cfe60909",
   "metadata": {},
   "outputs": [],
   "source": [
    "# find all factors of n\n",
    "\n",
    "def factor(n):\n",
    "    fac_lst = []\n",
    "    for i in range(1,n+1):\n",
    "        if n%i == 0:\n",
    "            fac_lst = fac_lst+[i]\n",
    "    return(fac_lst)"
   ]
  },
  {
   "cell_type": "code",
   "execution_count": 57,
   "id": "782c5b73",
   "metadata": {},
   "outputs": [
    {
     "data": {
      "text/plain": [
       "[1, 2, 4, 5, 8, 10, 20, 25, 40, 50, 100, 200]"
      ]
     },
     "execution_count": 57,
     "metadata": {},
     "output_type": "execute_result"
    }
   ],
   "source": [
    "factor(200)"
   ]
  },
  {
   "cell_type": "code",
   "execution_count": 58,
   "id": "41281516",
   "metadata": {},
   "outputs": [],
   "source": [
    "# Prime number\n",
    "def isprime(n):\n",
    "    return(factor(n)==[1,n])"
   ]
  },
  {
   "cell_type": "code",
   "execution_count": 109,
   "id": "faff8036",
   "metadata": {},
   "outputs": [
    {
     "data": {
      "text/plain": [
       "True"
      ]
     },
     "execution_count": 109,
     "metadata": {},
     "output_type": "execute_result"
    }
   ],
   "source": [
    "isprime(17)"
   ]
  },
  {
   "cell_type": "code",
   "execution_count": 110,
   "id": "e2783ed9",
   "metadata": {},
   "outputs": [],
   "source": [
    "# prime upto n\n",
    "\n",
    "def primeupto(n):\n",
    "    primelist = []\n",
    "    for i in range(1,n+1):\n",
    "        if isprime(i):\n",
    "            primelist = primelist+[i]\n",
    "            \n",
    "    return(primelist)"
   ]
  },
  {
   "cell_type": "code",
   "execution_count": 111,
   "id": "70b9e3e9",
   "metadata": {},
   "outputs": [
    {
     "data": {
      "text/plain": [
       "[2,\n",
       " 3,\n",
       " 5,\n",
       " 7,\n",
       " 11,\n",
       " 13,\n",
       " 17,\n",
       " 19,\n",
       " 23,\n",
       " 29,\n",
       " 31,\n",
       " 37,\n",
       " 41,\n",
       " 43,\n",
       " 47,\n",
       " 53,\n",
       " 59,\n",
       " 61,\n",
       " 67,\n",
       " 71,\n",
       " 73,\n",
       " 79,\n",
       " 83,\n",
       " 89,\n",
       " 97]"
      ]
     },
     "execution_count": 111,
     "metadata": {},
     "output_type": "execute_result"
    }
   ],
   "source": [
    "primeupto(100)"
   ]
  },
  {
   "cell_type": "markdown",
   "id": "deb9a3f2",
   "metadata": {},
   "source": [
    "#### First n prime"
   ]
  },
  {
   "cell_type": "code",
   "execution_count": 112,
   "id": "637ac856",
   "metadata": {},
   "outputs": [],
   "source": [
    "def nprime(n):\n",
    "    (count,i,plist) = (0,1,[])\n",
    "    while(count<n):  # we don't know how many numbers to scan\n",
    "        if isprime(i):\n",
    "            (count,plist) = (count+1,plist+[i])\n",
    "        i=i+1     # unconditional\n",
    "    return(plist)"
   ]
  },
  {
   "cell_type": "code",
   "execution_count": 113,
   "id": "3faf58c9",
   "metadata": {},
   "outputs": [
    {
     "data": {
      "text/plain": [
       "[2,\n",
       " 3,\n",
       " 5,\n",
       " 7,\n",
       " 11,\n",
       " 13,\n",
       " 17,\n",
       " 19,\n",
       " 23,\n",
       " 29,\n",
       " 31,\n",
       " 37,\n",
       " 41,\n",
       " 43,\n",
       " 47,\n",
       " 53,\n",
       " 59,\n",
       " 61,\n",
       " 67,\n",
       " 71,\n",
       " 73,\n",
       " 79,\n",
       " 83,\n",
       " 89,\n",
       " 97,\n",
       " 101,\n",
       " 103,\n",
       " 107,\n",
       " 109,\n",
       " 113,\n",
       " 127,\n",
       " 131,\n",
       " 137,\n",
       " 139,\n",
       " 149,\n",
       " 151,\n",
       " 157,\n",
       " 163,\n",
       " 167,\n",
       " 173,\n",
       " 179,\n",
       " 181,\n",
       " 191,\n",
       " 193,\n",
       " 197,\n",
       " 199,\n",
       " 211,\n",
       " 223,\n",
       " 227,\n",
       " 229,\n",
       " 233,\n",
       " 239,\n",
       " 241,\n",
       " 251,\n",
       " 257,\n",
       " 263,\n",
       " 269,\n",
       " 271,\n",
       " 277,\n",
       " 281,\n",
       " 283,\n",
       " 293,\n",
       " 307,\n",
       " 311,\n",
       " 313,\n",
       " 317,\n",
       " 331,\n",
       " 337,\n",
       " 347,\n",
       " 349,\n",
       " 353,\n",
       " 359,\n",
       " 367,\n",
       " 373,\n",
       " 379,\n",
       " 383,\n",
       " 389,\n",
       " 397,\n",
       " 401,\n",
       " 409,\n",
       " 419,\n",
       " 421,\n",
       " 431,\n",
       " 433,\n",
       " 439,\n",
       " 443,\n",
       " 449,\n",
       " 457,\n",
       " 461,\n",
       " 463,\n",
       " 467,\n",
       " 479,\n",
       " 487,\n",
       " 491,\n",
       " 499,\n",
       " 503,\n",
       " 509,\n",
       " 521,\n",
       " 523,\n",
       " 541]"
      ]
     },
     "execution_count": 113,
     "metadata": {},
     "output_type": "execute_result"
    }
   ],
   "source": [
    "nprime(100)"
   ]
  },
  {
   "cell_type": "raw",
   "id": "5e4aae24",
   "metadata": {},
   "source": [
    " can we use while to simulate for\n",
    "\n",
    "\n",
    " for i in range(i,j)                n = i\n",
    "                                   while n<j:\n",
    " statement                            statement\n",
    "\n",
    "\n"
   ]
  },
  {
   "cell_type": "markdown",
   "id": "13542e97",
   "metadata": {},
   "source": [
    "### More about range"
   ]
  },
  {
   "cell_type": "code",
   "execution_count": 114,
   "id": "a2a2d7af",
   "metadata": {},
   "outputs": [
    {
     "data": {
      "text/plain": [
       "range(3, 6)"
      ]
     },
     "execution_count": 114,
     "metadata": {},
     "output_type": "execute_result"
    }
   ],
   "source": [
    "range(3,6) # range(i,j) produce sequence of i,i+1,......,j-1"
   ]
  },
  {
   "cell_type": "code",
   "execution_count": 115,
   "id": "840056e8",
   "metadata": {},
   "outputs": [
    {
     "data": {
      "text/plain": [
       "range(0, 5)"
      ]
     },
     "execution_count": 115,
     "metadata": {},
     "output_type": "execute_result"
    }
   ],
   "source": [
    "range(5)  # range(j) automatically start from 0; 0,1,2,.....,j-1"
   ]
  },
  {
   "cell_type": "code",
   "execution_count": 116,
   "id": "302f5ef9",
   "metadata": {},
   "outputs": [
    {
     "data": {
      "text/plain": [
       "range(1, 20, 3)"
      ]
     },
     "execution_count": 116,
     "metadata": {},
     "output_type": "execute_result"
    }
   ],
   "source": [
    "range(1,20,3) # range(i,j,k) increment by k; i,i+k,i+2k,....,i+nk"
   ]
  },
  {
   "cell_type": "code",
   "execution_count": 117,
   "id": "508a3707",
   "metadata": {},
   "outputs": [
    {
     "data": {
      "text/plain": [
       "range(20, 1, -1)"
      ]
     },
     "execution_count": 117,
     "metadata": {},
     "output_type": "execute_result"
    }
   ],
   "source": [
    "range(20,1,-1) # range(i,j,k) increment by k; i,i-k,i-2k,....,i-nk , i>j,k is negative int"
   ]
  },
  {
   "cell_type": "code",
   "execution_count": 118,
   "id": "52a9d4ec",
   "metadata": {},
   "outputs": [],
   "source": [
    "#range and list\n",
    "#for i in [0,1,2,3,4,5,6,7,8,9]\n",
    "#for i in range(0,10)\n",
    "# both are same"
   ]
  },
  {
   "cell_type": "code",
   "execution_count": 119,
   "id": "e7eafbb9",
   "metadata": {},
   "outputs": [
    {
     "data": {
      "text/plain": [
       "[0, 1, 2, 3, 4, 5, 6, 7, 8, 9, 10, 11]"
      ]
     },
     "execution_count": 119,
     "metadata": {},
     "output_type": "execute_result"
    }
   ],
   "source": [
    "# convert range to a list\n",
    "list(range(0,12))"
   ]
  },
  {
   "cell_type": "code",
   "execution_count": 120,
   "id": "f678e4f6",
   "metadata": {},
   "outputs": [
    {
     "data": {
      "text/plain": [
       "False"
      ]
     },
     "execution_count": 120,
     "metadata": {},
     "output_type": "execute_result"
    }
   ],
   "source": [
    "[0, 1, 2, 3, 4, 5, 6, 7, 8, 9, 10, 11]==  range(0,12) # but in python 2 it show true"
   ]
  },
  {
   "cell_type": "code",
   "execution_count": 121,
   "id": "e7367aac",
   "metadata": {},
   "outputs": [
    {
     "data": {
      "text/plain": [
       "True"
      ]
     },
     "execution_count": 121,
     "metadata": {},
     "output_type": "execute_result"
    }
   ],
   "source": [
    "[0, 1, 2, 3, 4, 5, 6, 7, 8, 9, 10, 11]==list(range(0,12))"
   ]
  },
  {
   "cell_type": "code",
   "execution_count": 122,
   "id": "ecac8aa0",
   "metadata": {},
   "outputs": [
    {
     "data": {
      "text/plain": [
       "'45'"
      ]
     },
     "execution_count": 122,
     "metadata": {},
     "output_type": "execute_result"
    }
   ],
   "source": [
    "str(45)"
   ]
  },
  {
   "cell_type": "code",
   "execution_count": 123,
   "id": "fd638cf9",
   "metadata": {},
   "outputs": [
    {
     "data": {
      "text/plain": [
       "352"
      ]
     },
     "execution_count": 123,
     "metadata": {},
     "output_type": "execute_result"
    }
   ],
   "source": [
    "int('352')"
   ]
  },
  {
   "cell_type": "markdown",
   "id": "f0fc3edc",
   "metadata": {},
   "source": [
    "# Manipulating List"
   ]
  },
  {
   "cell_type": "code",
   "execution_count": 124,
   "id": "d2a8c5c3",
   "metadata": {},
   "outputs": [],
   "source": [
    "list1 = [1,3,5,6]\n",
    "list2 = list1\n",
    "list1[2]=7"
   ]
  },
  {
   "cell_type": "code",
   "execution_count": 125,
   "id": "3b5ca3bf",
   "metadata": {},
   "outputs": [
    {
     "data": {
      "text/plain": [
       "[1, 3, 7, 6]"
      ]
     },
     "execution_count": 125,
     "metadata": {},
     "output_type": "execute_result"
    }
   ],
   "source": [
    "list1"
   ]
  },
  {
   "cell_type": "code",
   "execution_count": 126,
   "id": "2c3d17c9",
   "metadata": {},
   "outputs": [
    {
     "data": {
      "text/plain": [
       "[1, 3, 7, 6]"
      ]
     },
     "execution_count": 126,
     "metadata": {},
     "output_type": "execute_result"
    }
   ],
   "source": [
    "list2 # also change in list2"
   ]
  },
  {
   "cell_type": "code",
   "execution_count": 127,
   "id": "19ee6a4d",
   "metadata": {},
   "outputs": [],
   "source": [
    "list1 = [1,3,5,6]\n",
    "list2 = list1\n",
    "list1 = list1[0:2]+[7]+list1[3:] # here it create a new list"
   ]
  },
  {
   "cell_type": "code",
   "execution_count": 128,
   "id": "b789a935",
   "metadata": {},
   "outputs": [
    {
     "data": {
      "text/plain": [
       "[1, 3, 7, 6]"
      ]
     },
     "execution_count": 128,
     "metadata": {},
     "output_type": "execute_result"
    }
   ],
   "source": [
    "list1 # concatination produces a new list"
   ]
  },
  {
   "cell_type": "code",
   "execution_count": 129,
   "id": "2b01374d",
   "metadata": {},
   "outputs": [
    {
     "data": {
      "text/plain": [
       "[1, 3, 5, 6]"
      ]
     },
     "execution_count": 129,
     "metadata": {},
     "output_type": "execute_result"
    }
   ],
   "source": [
    "list2 # here it remains same because we created new list"
   ]
  },
  {
   "cell_type": "markdown",
   "id": "17f407c6",
   "metadata": {},
   "source": [
    "### Extending a list"
   ]
  },
  {
   "cell_type": "code",
   "execution_count": 130,
   "id": "b08bc878",
   "metadata": {},
   "outputs": [],
   "source": [
    "list1 = [1,3,5,6]\n",
    "list2 = list1\n",
    "list1.append(12)  # here not created new list as above"
   ]
  },
  {
   "cell_type": "code",
   "execution_count": 131,
   "id": "bfb43e9a",
   "metadata": {},
   "outputs": [
    {
     "data": {
      "text/plain": [
       "[1, 3, 5, 6, 12]"
      ]
     },
     "execution_count": 131,
     "metadata": {},
     "output_type": "execute_result"
    }
   ],
   "source": [
    "list1"
   ]
  },
  {
   "cell_type": "code",
   "execution_count": 132,
   "id": "551982de",
   "metadata": {},
   "outputs": [
    {
     "data": {
      "text/plain": [
       "[1, 3, 5, 6, 12]"
      ]
     },
     "execution_count": 132,
     "metadata": {},
     "output_type": "execute_result"
    }
   ],
   "source": [
    "list2"
   ]
  },
  {
   "cell_type": "code",
   "execution_count": 133,
   "id": "49bcc6f0",
   "metadata": {},
   "outputs": [],
   "source": [
    "list1 = [1,3,5,6]\n",
    "list2 = list1\n",
    "list1= list1 + [12]"
   ]
  },
  {
   "cell_type": "code",
   "execution_count": 134,
   "id": "3555e78a",
   "metadata": {},
   "outputs": [
    {
     "data": {
      "text/plain": [
       "[1, 3, 5, 6, 12]"
      ]
     },
     "execution_count": 134,
     "metadata": {},
     "output_type": "execute_result"
    }
   ],
   "source": [
    "list1"
   ]
  },
  {
   "cell_type": "code",
   "execution_count": 135,
   "id": "de882401",
   "metadata": {},
   "outputs": [
    {
     "data": {
      "text/plain": [
       "[1, 3, 5, 6]"
      ]
     },
     "execution_count": 135,
     "metadata": {},
     "output_type": "execute_result"
    }
   ],
   "source": [
    "list2"
   ]
  },
  {
   "cell_type": "markdown",
   "id": "a4f2e6fa",
   "metadata": {},
   "source": [
    "list1.append(v)-extend list1 by a single value v\n",
    "\n",
    "list1.extend(list)-extend list1 by a list of value it, equivalent to list1 = list1 + list2\n",
    "\n",
    "list1.remove(x)- remove first occurance of x,if there is noany x in the list then it show error"
   ]
  },
  {
   "cell_type": "code",
   "execution_count": 136,
   "id": "5f1a56a8",
   "metadata": {},
   "outputs": [],
   "source": [
    "list1 = list(range(10))"
   ]
  },
  {
   "cell_type": "code",
   "execution_count": 137,
   "id": "0e754c66",
   "metadata": {},
   "outputs": [],
   "source": [
    "list1.append(12)"
   ]
  },
  {
   "cell_type": "code",
   "execution_count": 138,
   "id": "cf9d26d5",
   "metadata": {},
   "outputs": [
    {
     "data": {
      "text/plain": [
       "[0, 1, 2, 3, 4, 5, 6, 7, 8, 9, 12]"
      ]
     },
     "execution_count": 138,
     "metadata": {},
     "output_type": "execute_result"
    }
   ],
   "source": [
    "list1"
   ]
  },
  {
   "cell_type": "code",
   "execution_count": 139,
   "id": "463dcc91",
   "metadata": {},
   "outputs": [],
   "source": [
    "list1.extend([13,14])"
   ]
  },
  {
   "cell_type": "code",
   "execution_count": 140,
   "id": "b03189fb",
   "metadata": {},
   "outputs": [
    {
     "data": {
      "text/plain": [
       "[0, 1, 2, 3, 4, 5, 6, 7, 8, 9, 12, 13, 14]"
      ]
     },
     "execution_count": 140,
     "metadata": {},
     "output_type": "execute_result"
    }
   ],
   "source": [
    "list1"
   ]
  },
  {
   "cell_type": "code",
   "execution_count": 141,
   "id": "b13180a1",
   "metadata": {},
   "outputs": [],
   "source": [
    "list2 = list1 + list1"
   ]
  },
  {
   "cell_type": "code",
   "execution_count": 142,
   "id": "96661b21",
   "metadata": {},
   "outputs": [
    {
     "data": {
      "text/plain": [
       "[0,\n",
       " 1,\n",
       " 2,\n",
       " 3,\n",
       " 4,\n",
       " 5,\n",
       " 6,\n",
       " 7,\n",
       " 8,\n",
       " 9,\n",
       " 12,\n",
       " 13,\n",
       " 14,\n",
       " 0,\n",
       " 1,\n",
       " 2,\n",
       " 3,\n",
       " 4,\n",
       " 5,\n",
       " 6,\n",
       " 7,\n",
       " 8,\n",
       " 9,\n",
       " 12,\n",
       " 13,\n",
       " 14]"
      ]
     },
     "execution_count": 142,
     "metadata": {},
     "output_type": "execute_result"
    }
   ],
   "source": [
    "list2"
   ]
  },
  {
   "cell_type": "code",
   "execution_count": 143,
   "id": "bc34a23a",
   "metadata": {},
   "outputs": [],
   "source": [
    "list2.remove(5)"
   ]
  },
  {
   "cell_type": "code",
   "execution_count": 144,
   "id": "168f2f1a",
   "metadata": {},
   "outputs": [
    {
     "data": {
      "text/plain": [
       "[0,\n",
       " 1,\n",
       " 2,\n",
       " 3,\n",
       " 4,\n",
       " 6,\n",
       " 7,\n",
       " 8,\n",
       " 9,\n",
       " 12,\n",
       " 13,\n",
       " 14,\n",
       " 0,\n",
       " 1,\n",
       " 2,\n",
       " 3,\n",
       " 4,\n",
       " 5,\n",
       " 6,\n",
       " 7,\n",
       " 8,\n",
       " 9,\n",
       " 12,\n",
       " 13,\n",
       " 14]"
      ]
     },
     "execution_count": 144,
     "metadata": {},
     "output_type": "execute_result"
    }
   ],
   "source": [
    "list2"
   ]
  },
  {
   "cell_type": "code",
   "execution_count": 145,
   "id": "d7b43dc3",
   "metadata": {},
   "outputs": [],
   "source": [
    "list2.remove(5) # we remove once again 5"
   ]
  },
  {
   "cell_type": "code",
   "execution_count": 146,
   "id": "14c774eb",
   "metadata": {},
   "outputs": [
    {
     "data": {
      "text/plain": [
       "[0, 1, 2, 3, 4, 6, 7, 8, 9, 12, 13, 14, 0, 1, 2, 3, 4, 6, 7, 8, 9, 12, 13, 14]"
      ]
     },
     "execution_count": 146,
     "metadata": {},
     "output_type": "execute_result"
    }
   ],
   "source": [
    "list2"
   ]
  },
  {
   "cell_type": "code",
   "execution_count": 147,
   "id": "28f375fd",
   "metadata": {},
   "outputs": [
    {
     "ename": "ValueError",
     "evalue": "list.remove(x): x not in list",
     "output_type": "error",
     "traceback": [
      "\u001b[1;31m---------------------------------------------------------------------------\u001b[0m",
      "\u001b[1;31mValueError\u001b[0m                                Traceback (most recent call last)",
      "\u001b[1;32m~\\AppData\\Local\\Temp\\ipykernel_11208\\3734178567.py\u001b[0m in \u001b[0;36m<module>\u001b[1;34m\u001b[0m\n\u001b[1;32m----> 1\u001b[1;33m \u001b[0mlist2\u001b[0m\u001b[1;33m.\u001b[0m\u001b[0mremove\u001b[0m\u001b[1;33m(\u001b[0m\u001b[1;36m5\u001b[0m\u001b[1;33m)\u001b[0m \u001b[1;31m# here once again try to remove 5 then it show error because there is no any more 5\u001b[0m\u001b[1;33m\u001b[0m\u001b[1;33m\u001b[0m\u001b[0m\n\u001b[0m",
      "\u001b[1;31mValueError\u001b[0m: list.remove(x): x not in list"
     ]
    }
   ],
   "source": [
    "list2.remove(5) # here once again try to remove 5 then it show error because there is no any more 5"
   ]
  },
  {
   "cell_type": "code",
   "execution_count": 149,
   "id": "2493a912",
   "metadata": {},
   "outputs": [],
   "source": [
    "list1 = [1,3,5,6]\n",
    "list2 = list1\n",
    "list1[2:]=[7,8]"
   ]
  },
  {
   "cell_type": "code",
   "execution_count": 150,
   "id": "c70ad2d8",
   "metadata": {},
   "outputs": [
    {
     "data": {
      "text/plain": [
       "[1, 3, 7, 8]"
      ]
     },
     "execution_count": 150,
     "metadata": {},
     "output_type": "execute_result"
    }
   ],
   "source": [
    "list1"
   ]
  },
  {
   "cell_type": "code",
   "execution_count": 151,
   "id": "56ea0c38",
   "metadata": {},
   "outputs": [
    {
     "data": {
      "text/plain": [
       "[1, 3, 7, 8]"
      ]
     },
     "execution_count": 151,
     "metadata": {},
     "output_type": "execute_result"
    }
   ],
   "source": [
    "list2"
   ]
  },
  {
   "cell_type": "markdown",
   "id": "952b4c2d",
   "metadata": {},
   "source": [
    "Can expand/shrinkslices, but be sure weknow what we are doing "
   ]
  },
  {
   "cell_type": "code",
   "execution_count": 152,
   "id": "710a6ec9",
   "metadata": {},
   "outputs": [],
   "source": [
    "list1[2:] = [9,10,11]"
   ]
  },
  {
   "cell_type": "code",
   "execution_count": 153,
   "id": "28d9eed0",
   "metadata": {},
   "outputs": [
    {
     "data": {
      "text/plain": [
       "[1, 3, 9, 10, 11]"
      ]
     },
     "execution_count": 153,
     "metadata": {},
     "output_type": "execute_result"
    }
   ],
   "source": [
    "list1"
   ]
  },
  {
   "cell_type": "code",
   "execution_count": 154,
   "id": "56859442",
   "metadata": {},
   "outputs": [],
   "source": [
    "list1[0:2] = [7]"
   ]
  },
  {
   "cell_type": "code",
   "execution_count": 155,
   "id": "4a86600b",
   "metadata": {},
   "outputs": [
    {
     "data": {
      "text/plain": [
       "[7, 9, 10, 11]"
      ]
     },
     "execution_count": 155,
     "metadata": {},
     "output_type": "execute_result"
    }
   ],
   "source": [
    "list1"
   ]
  },
  {
   "cell_type": "markdown",
   "id": "fadfe7d4",
   "metadata": {},
   "source": [
    "# List membership\n",
    "\n",
    "x in l returns True if value x is found in list l"
   ]
  },
  {
   "cell_type": "raw",
   "id": "a72744f1",
   "metadata": {},
   "source": [
    "# safely remove x from l\n",
    "\n",
    "if x in l:\n",
    "    l.remove(x)  # it remove only first value"
   ]
  },
  {
   "cell_type": "raw",
   "id": "09ac38ad",
   "metadata": {},
   "source": [
    "# remove all occurence of x from l\n",
    "\n",
    "while x in l:\n",
    "    l.remove(x)"
   ]
  },
  {
   "cell_type": "markdown",
   "id": "3de3bbdf",
   "metadata": {},
   "source": [
    "# Other function"
   ]
  },
  {
   "cell_type": "markdown",
   "id": "7c99717c",
   "metadata": {},
   "source": [
    "\n",
    "l.reverse()  -- reversel in place\n",
    "\n",
    "l.sort() --- sort l in ascending order\n",
    "\n",
    "l.index(x)  -- find leftmost position of x in l\n",
    "\n",
    "l.rindex(x)  -- find rightmost position of x in l"
   ]
  },
  {
   "cell_type": "code",
   "execution_count": 156,
   "id": "79dec613",
   "metadata": {},
   "outputs": [],
   "source": [
    "def factor(n):\n",
    "    flist = []\n",
    "    for i in range(1,n+1):\n",
    "        if n%i ==0:\n",
    "            flist.append(i)\n",
    "    return(flist) "
   ]
  },
  {
   "cell_type": "code",
   "execution_count": 157,
   "id": "b3ab27aa",
   "metadata": {},
   "outputs": [
    {
     "data": {
      "text/plain": [
       "[1, 2, 5, 10]"
      ]
     },
     "execution_count": 157,
     "metadata": {},
     "output_type": "execute_result"
    }
   ],
   "source": [
    "factor(10)"
   ]
  },
  {
   "cell_type": "markdown",
   "id": "8109f8e4",
   "metadata": {},
   "source": [
    "# Breaking out of Loops"
   ]
  },
  {
   "cell_type": "code",
   "execution_count": 158,
   "id": "9a21c0bc",
   "metadata": {},
   "outputs": [],
   "source": [
    "# Finding position\n",
    "def findpos(l,v):\n",
    "    # return first position of v inl\n",
    "    # return -1 if v is not available\n",
    "    (found,i) = (False,0)\n",
    "    while i < len(l):\n",
    "        if l[i] == v:  ## here it run upto last position which is unnececessory if v matches earlily so we need some modification \n",
    "            (found,pos) = (True,i)\n",
    "    if not found:\n",
    "        pos = -1\n",
    "    return(pos)"
   ]
  },
  {
   "cell_type": "code",
   "execution_count": 159,
   "id": "f5718380",
   "metadata": {},
   "outputs": [],
   "source": [
    "def findpos(l,v):\n",
    "    # return first position of v inl\n",
    "    # return -1 if v is not available\n",
    "    (found,i) = (False,0)\n",
    "    while i < len(l):\n",
    "        if not found and l[i] == v: \n",
    "            (found,pos) = (True,i)\n",
    "    if not found:\n",
    "        pos = -1\n",
    "    return(pos)"
   ]
  },
  {
   "cell_type": "code",
   "execution_count": 168,
   "id": "85810182",
   "metadata": {},
   "outputs": [],
   "source": [
    "# by for loop\n",
    "\n",
    "def findpos(l,v):\n",
    "    (pos,i) = (-1,0)\n",
    "    for x in l:\n",
    "        if x==v:  # exit and report the positon of x\n",
    "            pos = i\n",
    "            break    # it exit the loop\n",
    "        i = i+1\n",
    "        \n",
    "    # if pos not reset in loop, pos is -1\n",
    "    return(pos)\n",
    "            "
   ]
  },
  {
   "cell_type": "code",
   "execution_count": 169,
   "id": "90cfae26",
   "metadata": {},
   "outputs": [],
   "source": [
    "# in better way\n",
    "\n",
    "def findpos(l,v):\n",
    "    pos = -1\n",
    "    for i in range(len(l)):\n",
    "        if l[i]==v:   # exit and repor positon\n",
    "            pos = i \n",
    "    \n",
    "    # if pos not reset in loop, pos is -1\n",
    "    return(pos)"
   ]
  },
  {
   "cell_type": "code",
   "execution_count": 171,
   "id": "812b57e4",
   "metadata": {},
   "outputs": [],
   "source": [
    "def findpos(l,v):\n",
    "    for i in range(len(l)):\n",
    "        if l[i]==v:   # exit and repor positon\n",
    "            pos = i\n",
    "            break\n",
    "    else:\n",
    "        pos = -1 # no break, v not in l"
   ]
  },
  {
   "cell_type": "markdown",
   "id": "1534e8ad",
   "metadata": {},
   "source": [
    "# Arrays vs List, Binary search"
   ]
  },
  {
   "cell_type": "markdown",
   "id": "674df47b",
   "metadata": {},
   "source": [
    "## Search Problem"
   ]
  },
  {
   "cell_type": "code",
   "execution_count": 181,
   "id": "85660be9",
   "metadata": {},
   "outputs": [],
   "source": [
    "def search(seq,v):\n",
    "    for x in seq:\n",
    "        if x == v:\n",
    "            return(True)\n",
    "    return(False)    "
   ]
  },
  {
   "cell_type": "code",
   "execution_count": 182,
   "id": "13e730f1",
   "metadata": {},
   "outputs": [],
   "source": [
    "def bsearch(seq,v,l,r):  # search for v in seq[l:r], seq is sorted\n",
    "    if (r-l == 0):\n",
    "        return (False)\n",
    "    mid= (l+r)//2\n",
    "    if (v==seq[mid]):\n",
    "        return (True)\n",
    "    if (v<seq[mid]):\n",
    "        return (bsearch(seq,v,l,mid))\n",
    "    else:\n",
    "        return (bsearch(seq,v,mid+1,r))\n",
    "    "
   ]
  },
  {
   "cell_type": "markdown",
   "id": "81d54551",
   "metadata": {},
   "source": [
    "# Selection Sort"
   ]
  },
  {
   "cell_type": "code",
   "execution_count": 183,
   "id": "1a69b405",
   "metadata": {},
   "outputs": [],
   "source": [
    "def SelectionSort(l): \n",
    "    # scan slice l[0:len(l)],l[1:len(l)],...\n",
    "    for start in range(len(l)):  # start from zero position\n",
    "        # find minimum value of slice.....\n",
    "        minpos = start\n",
    "        for i in range (start,len(l)):\n",
    "            if l[i] < l[minpos]:\n",
    "                minpos = i\n",
    "        # ...... and move it to start of slice\n",
    "        (l[start],l[minpos]) = (l[minpos],l[start])"
   ]
  },
  {
   "cell_type": "markdown",
   "id": "e73a2a6f",
   "metadata": {},
   "source": [
    "# Insertion Sort"
   ]
  },
  {
   "cell_type": "code",
   "execution_count": 185,
   "id": "acd6f86d",
   "metadata": {},
   "outputs": [],
   "source": [
    "def InsertionSort(seq):\n",
    "    for sliceEnd in range(len(seq)):\n",
    "        # Build longer and longer sorted slices\n",
    "        # In each interaction seq[0:sliceEnd] already sorted\n",
    "        \n",
    "        # Move first element after sorted slice left\n",
    "        # till it is in correct place\n",
    "        pos = sliceEnd\n",
    "        while pos > 0 and seq[pos] < seq[pos-1]:\n",
    "            (seq[pos],seq[pos-1]) = (seq[pos-1],seq[pos])\n",
    "            pos = pos-1"
   ]
  },
  {
   "cell_type": "code",
   "execution_count": 195,
   "id": "ea5d9a72",
   "metadata": {},
   "outputs": [
    {
     "data": {
      "text/plain": [
       "[20, 19, 18, 17, 16, 15, 14, 13, 12, 11, 10, 9, 8, 7, 6, 5, 4, 3, 2, 1]"
      ]
     },
     "execution_count": 195,
     "metadata": {},
     "output_type": "execute_result"
    }
   ],
   "source": [
    "l = list(range(20,0,-1))\n",
    "l"
   ]
  },
  {
   "cell_type": "code",
   "execution_count": 196,
   "id": "8a45aab6",
   "metadata": {},
   "outputs": [],
   "source": [
    "InsertionSort(l)"
   ]
  },
  {
   "cell_type": "code",
   "execution_count": 197,
   "id": "89d90dee",
   "metadata": {},
   "outputs": [
    {
     "data": {
      "text/plain": [
       "[1, 2, 3, 4, 5, 6, 7, 8, 9, 10, 11, 12, 13, 14, 15, 16, 17, 18, 19, 20]"
      ]
     },
     "execution_count": 197,
     "metadata": {},
     "output_type": "execute_result"
    }
   ],
   "source": [
    "l"
   ]
  },
  {
   "cell_type": "markdown",
   "id": "1f03e62f",
   "metadata": {},
   "source": [
    "# Recursion"
   ]
  },
  {
   "cell_type": "code",
   "execution_count": 198,
   "id": "31bf95c3",
   "metadata": {},
   "outputs": [],
   "source": [
    "def factorial(n):\n",
    "    if n == 0:\n",
    "        return(1)\n",
    "    else:\n",
    "        return(n*factorial(n-1))"
   ]
  },
  {
   "cell_type": "code",
   "execution_count": 199,
   "id": "1d9358c4",
   "metadata": {},
   "outputs": [
    {
     "data": {
      "text/plain": [
       "120"
      ]
     },
     "execution_count": 199,
     "metadata": {},
     "output_type": "execute_result"
    }
   ],
   "source": [
    "factorial(5)"
   ]
  },
  {
   "cell_type": "code",
   "execution_count": 207,
   "id": "4e30cddf",
   "metadata": {},
   "outputs": [],
   "source": [
    "def multiplication(m,n):\n",
    "    if n==1:\n",
    "        return(m)\n",
    "    else:\n",
    "        return(m + multiplication(m,n-1))"
   ]
  },
  {
   "cell_type": "code",
   "execution_count": 208,
   "id": "0eb35b68",
   "metadata": {},
   "outputs": [
    {
     "data": {
      "text/plain": [
       "6"
      ]
     },
     "execution_count": 208,
     "metadata": {},
     "output_type": "execute_result"
    }
   ],
   "source": [
    "multiplication(2,3)"
   ]
  },
  {
   "cell_type": "markdown",
   "id": "9715f5c3",
   "metadata": {},
   "source": [
    "### Inductive defination for list"
   ]
  },
  {
   "cell_type": "code",
   "execution_count": 209,
   "id": "8ad1f824",
   "metadata": {},
   "outputs": [],
   "source": [
    "# Length of list\n",
    "def length(l):\n",
    "    if l == []:\n",
    "        return (0)\n",
    "    else:\n",
    "        return(1+length(l[1:]))"
   ]
  },
  {
   "cell_type": "code",
   "execution_count": 210,
   "id": "d21548fb",
   "metadata": {},
   "outputs": [
    {
     "data": {
      "text/plain": [
       "8"
      ]
     },
     "execution_count": 210,
     "metadata": {},
     "output_type": "execute_result"
    }
   ],
   "source": [
    "l = [2,6,2,5,3,5,2,5]\n",
    "length(l)"
   ]
  },
  {
   "cell_type": "code",
   "execution_count": 216,
   "id": "1a90e123",
   "metadata": {},
   "outputs": [],
   "source": [
    "# sum of list of number\n",
    "def sumlist(l):\n",
    "    if l == []:\n",
    "        return (0)\n",
    "    else:\n",
    "        return(l[0] + sumlist(l[1:]))"
   ]
  },
  {
   "cell_type": "code",
   "execution_count": 217,
   "id": "9a454765",
   "metadata": {},
   "outputs": [
    {
     "data": {
      "text/plain": [
       "30"
      ]
     },
     "execution_count": 217,
     "metadata": {},
     "output_type": "execute_result"
    }
   ],
   "source": [
    "l = [2,6,2,5,3,5,2,5]\n",
    "sumlist(l)"
   ]
  },
  {
   "cell_type": "markdown",
   "id": "3c9f114c",
   "metadata": {},
   "source": [
    "## Recursive insertion sort"
   ]
  },
  {
   "cell_type": "code",
   "execution_count": 218,
   "id": "10a98cd1",
   "metadata": {},
   "outputs": [],
   "source": [
    "def InsertionSort(seq):\n",
    "    isort(seq,len(seq))\n",
    "    \n",
    "def isort(seq,k):  # sort slice seq[0:k]\n",
    "    if k > 1:\n",
    "        isort(seq,k-1)\n",
    "        insert(seq,k-1)\n",
    "        \n",
    "def inser(seq,k):\n",
    "    pos = k\n",
    "    while pos > 0 and seq[pos] < seq[pos-1]:\n",
    "        (seq[pos],seq[pos-1]) = (seq[pos-1],seq[pos])\n",
    "        pos = pos-1\n",
    "    "
   ]
  },
  {
   "cell_type": "markdown",
   "id": "6b2b82e9",
   "metadata": {},
   "source": [
    "## Recursion limit in Python"
   ]
  },
  {
   "cell_type": "markdown",
   "id": "307172d7",
   "metadata": {},
   "source": [
    "Python sets a maximum recursion limit of about 1000 after that it shows \n",
    "RecursionError: maximum recursion depth exceeded in compparison"
   ]
  },
  {
   "cell_type": "code",
   "execution_count": 221,
   "id": "8d8d3682",
   "metadata": {},
   "outputs": [],
   "source": [
    "# we can manually raise the recursion limit as follows\n",
    "\n",
    "import sys\n",
    "sys.setrecursionlimit(10000)"
   ]
  },
  {
   "cell_type": "markdown",
   "id": "87d108c3",
   "metadata": {},
   "source": [
    "# Mergesort"
   ]
  },
  {
   "cell_type": "code",
   "execution_count": 241,
   "id": "26afcd31",
   "metadata": {},
   "outputs": [],
   "source": [
    "# merging\n",
    "def merge(A,B):  # Merge A[0:M], B[0:n]\n",
    "    (C,m,n) = ([],len(A),len(B))\n",
    "    (i,j) = (0,0) # Current position in A,B\n",
    "    while i+j < m+n:  # i+j is the no. of element merged so far\n",
    "        if i == m:    #Case1: A is empty\n",
    "            C.append(B[j])\n",
    "            j = j+1\n",
    "        elif j == n:  # Case2 : B is empty\n",
    "            C.append(A[i])\n",
    "            i = i+1\n",
    "        elif A[i]<=B[j]:  # Case3 : Head of A is smaller\n",
    "            C.append(A[i])\n",
    "            i = i+1\n",
    "        elif A[i]>B[j]:  # Case4 : Head of A is smaller\n",
    "            C.append(B[j])\n",
    "            j = j+1\n",
    "    \n",
    "    return(C)\n",
    "        "
   ]
  },
  {
   "cell_type": "code",
   "execution_count": 242,
   "id": "cce7177f",
   "metadata": {},
   "outputs": [],
   "source": [
    "a = list(range(0,100,2))\n",
    "b = list(range(1,75,2))"
   ]
  },
  {
   "cell_type": "code",
   "execution_count": 243,
   "id": "80fe7136",
   "metadata": {},
   "outputs": [
    {
     "data": {
      "text/plain": [
       "50"
      ]
     },
     "execution_count": 243,
     "metadata": {},
     "output_type": "execute_result"
    }
   ],
   "source": [
    "len(a)"
   ]
  },
  {
   "cell_type": "code",
   "execution_count": 244,
   "id": "d0cc6e20",
   "metadata": {},
   "outputs": [
    {
     "data": {
      "text/plain": [
       "37"
      ]
     },
     "execution_count": 244,
     "metadata": {},
     "output_type": "execute_result"
    }
   ],
   "source": [
    "len(b)"
   ]
  },
  {
   "cell_type": "code",
   "execution_count": 245,
   "id": "403a7e11",
   "metadata": {},
   "outputs": [
    {
     "data": {
      "text/plain": [
       "[0,\n",
       " 2,\n",
       " 4,\n",
       " 6,\n",
       " 8,\n",
       " 10,\n",
       " 12,\n",
       " 14,\n",
       " 16,\n",
       " 18,\n",
       " 20,\n",
       " 22,\n",
       " 24,\n",
       " 26,\n",
       " 28,\n",
       " 30,\n",
       " 32,\n",
       " 34,\n",
       " 36,\n",
       " 38,\n",
       " 40,\n",
       " 42,\n",
       " 44,\n",
       " 46,\n",
       " 48,\n",
       " 50,\n",
       " 52,\n",
       " 54,\n",
       " 56,\n",
       " 58,\n",
       " 60,\n",
       " 62,\n",
       " 64,\n",
       " 66,\n",
       " 68,\n",
       " 70,\n",
       " 72,\n",
       " 74,\n",
       " 76,\n",
       " 78,\n",
       " 80,\n",
       " 82,\n",
       " 84,\n",
       " 86,\n",
       " 88,\n",
       " 90,\n",
       " 92,\n",
       " 94,\n",
       " 96,\n",
       " 98]"
      ]
     },
     "execution_count": 245,
     "metadata": {},
     "output_type": "execute_result"
    }
   ],
   "source": [
    "a"
   ]
  },
  {
   "cell_type": "code",
   "execution_count": 246,
   "id": "772d0bf0",
   "metadata": {},
   "outputs": [
    {
     "data": {
      "text/plain": [
       "[1,\n",
       " 3,\n",
       " 5,\n",
       " 7,\n",
       " 9,\n",
       " 11,\n",
       " 13,\n",
       " 15,\n",
       " 17,\n",
       " 19,\n",
       " 21,\n",
       " 23,\n",
       " 25,\n",
       " 27,\n",
       " 29,\n",
       " 31,\n",
       " 33,\n",
       " 35,\n",
       " 37,\n",
       " 39,\n",
       " 41,\n",
       " 43,\n",
       " 45,\n",
       " 47,\n",
       " 49,\n",
       " 51,\n",
       " 53,\n",
       " 55,\n",
       " 57,\n",
       " 59,\n",
       " 61,\n",
       " 63,\n",
       " 65,\n",
       " 67,\n",
       " 69,\n",
       " 71,\n",
       " 73]"
      ]
     },
     "execution_count": 246,
     "metadata": {},
     "output_type": "execute_result"
    }
   ],
   "source": [
    "b"
   ]
  },
  {
   "cell_type": "code",
   "execution_count": 247,
   "id": "db9944dc",
   "metadata": {},
   "outputs": [
    {
     "data": {
      "text/plain": [
       "[0,\n",
       " 1,\n",
       " 2,\n",
       " 3,\n",
       " 4,\n",
       " 5,\n",
       " 6,\n",
       " 7,\n",
       " 8,\n",
       " 9,\n",
       " 10,\n",
       " 11,\n",
       " 12,\n",
       " 13,\n",
       " 14,\n",
       " 15,\n",
       " 16,\n",
       " 17,\n",
       " 18,\n",
       " 19,\n",
       " 20,\n",
       " 21,\n",
       " 22,\n",
       " 23,\n",
       " 24,\n",
       " 25,\n",
       " 26,\n",
       " 27,\n",
       " 28,\n",
       " 29,\n",
       " 30,\n",
       " 31,\n",
       " 32,\n",
       " 33,\n",
       " 34,\n",
       " 35,\n",
       " 36,\n",
       " 37,\n",
       " 38,\n",
       " 39,\n",
       " 40,\n",
       " 41,\n",
       " 42,\n",
       " 43,\n",
       " 44,\n",
       " 45,\n",
       " 46,\n",
       " 47,\n",
       " 48,\n",
       " 49,\n",
       " 50,\n",
       " 51,\n",
       " 52,\n",
       " 53,\n",
       " 54,\n",
       " 55,\n",
       " 56,\n",
       " 57,\n",
       " 58,\n",
       " 59,\n",
       " 60,\n",
       " 61,\n",
       " 62,\n",
       " 63,\n",
       " 64,\n",
       " 65,\n",
       " 66,\n",
       " 67,\n",
       " 68,\n",
       " 69,\n",
       " 70,\n",
       " 71,\n",
       " 72,\n",
       " 73,\n",
       " 74,\n",
       " 76,\n",
       " 78,\n",
       " 80,\n",
       " 82,\n",
       " 84,\n",
       " 86,\n",
       " 88,\n",
       " 90,\n",
       " 92,\n",
       " 94,\n",
       " 96,\n",
       " 98]"
      ]
     },
     "execution_count": 247,
     "metadata": {},
     "output_type": "execute_result"
    }
   ],
   "source": [
    "merge(a,b)"
   ]
  },
  {
   "cell_type": "code",
   "execution_count": 248,
   "id": "0112c8f3",
   "metadata": {},
   "outputs": [],
   "source": [
    "# Merge sort\n",
    "def mergesort(A,left,right):\n",
    "    # sort the slice A[left:right]\n",
    "    if right - left <= 1: # Base case\n",
    "        return(A[left:right])\n",
    "    \n",
    "    if right - left > 1: # Recursive call\n",
    "        mid = (left + right)//2\n",
    "        \n",
    "        L = mergesort(A,left,mid)\n",
    "        R = mergesort(A,mid,right)\n",
    "        \n",
    "        return(merge(L,R))\n",
    "    "
   ]
  },
  {
   "cell_type": "code",
   "execution_count": 249,
   "id": "9aa63467",
   "metadata": {},
   "outputs": [],
   "source": [
    "a = list(range(1,100,2)) + list(range(0,100,2))"
   ]
  },
  {
   "cell_type": "code",
   "execution_count": 250,
   "id": "9885b689",
   "metadata": {},
   "outputs": [
    {
     "data": {
      "text/plain": [
       "[0,\n",
       " 1,\n",
       " 2,\n",
       " 3,\n",
       " 4,\n",
       " 5,\n",
       " 6,\n",
       " 7,\n",
       " 8,\n",
       " 9,\n",
       " 10,\n",
       " 11,\n",
       " 12,\n",
       " 13,\n",
       " 14,\n",
       " 15,\n",
       " 16,\n",
       " 17,\n",
       " 18,\n",
       " 19,\n",
       " 20,\n",
       " 21,\n",
       " 22,\n",
       " 23,\n",
       " 24,\n",
       " 25,\n",
       " 26,\n",
       " 27,\n",
       " 28,\n",
       " 29,\n",
       " 30,\n",
       " 31,\n",
       " 32,\n",
       " 33,\n",
       " 34,\n",
       " 35,\n",
       " 36,\n",
       " 37,\n",
       " 38,\n",
       " 39,\n",
       " 40,\n",
       " 41,\n",
       " 42,\n",
       " 43,\n",
       " 44,\n",
       " 45,\n",
       " 46,\n",
       " 47,\n",
       " 48,\n",
       " 49,\n",
       " 50,\n",
       " 51,\n",
       " 52,\n",
       " 53,\n",
       " 54,\n",
       " 55,\n",
       " 56,\n",
       " 57,\n",
       " 58,\n",
       " 59,\n",
       " 60,\n",
       " 61,\n",
       " 62,\n",
       " 63,\n",
       " 64,\n",
       " 65,\n",
       " 66,\n",
       " 67,\n",
       " 68,\n",
       " 69,\n",
       " 70,\n",
       " 71,\n",
       " 72,\n",
       " 73,\n",
       " 74,\n",
       " 75,\n",
       " 76,\n",
       " 77,\n",
       " 78,\n",
       " 79,\n",
       " 80,\n",
       " 81,\n",
       " 82,\n",
       " 83,\n",
       " 84,\n",
       " 85,\n",
       " 86,\n",
       " 87,\n",
       " 88,\n",
       " 89,\n",
       " 90,\n",
       " 91,\n",
       " 92,\n",
       " 93,\n",
       " 94,\n",
       " 95,\n",
       " 96,\n",
       " 97,\n",
       " 98,\n",
       " 99]"
      ]
     },
     "execution_count": 250,
     "metadata": {},
     "output_type": "execute_result"
    }
   ],
   "source": [
    "mergesort(a,0,len(a))"
   ]
  },
  {
   "cell_type": "markdown",
   "id": "086226fa",
   "metadata": {},
   "source": [
    "# Quicksort"
   ]
  },
  {
   "cell_type": "code",
   "execution_count": 1,
   "id": "22177526",
   "metadata": {},
   "outputs": [],
   "source": [
    "def Quicksort(A,l,r): # sort A[l:r]\n",
    "    if r-l<= 1:   # base case\n",
    "        return()\n",
    "    # partition w.r.t pivot,a[l]\n",
    "    yellow = l+1\n",
    "    \n",
    "    for green in range(l+1,r):\n",
    "        if A[green] <= A[l]:\n",
    "            (A[yellow],A[green]) = (A[green],A[yellow])\n",
    "            yellow = yellow+1\n",
    "            \n",
    "    # move pivot into place\n",
    "    (A[l],A[yellow-1]) = (A[yellow-1],A[l])\n",
    "    \n",
    "    Quicksort(A,l,yellow-1) # Recursive call\n",
    "    Quicksort(A,yellow,r)"
   ]
  },
  {
   "cell_type": "code",
   "execution_count": 2,
   "id": "e7900d6f",
   "metadata": {},
   "outputs": [],
   "source": [
    "l = list(range(500,0,-1))"
   ]
  },
  {
   "cell_type": "code",
   "execution_count": 3,
   "id": "618a4f68",
   "metadata": {},
   "outputs": [],
   "source": [
    "Quicksort(l,0,len(l))"
   ]
  },
  {
   "cell_type": "code",
   "execution_count": 4,
   "id": "f420b82c",
   "metadata": {},
   "outputs": [
    {
     "data": {
      "text/plain": [
       "[1,\n",
       " 2,\n",
       " 3,\n",
       " 4,\n",
       " 5,\n",
       " 6,\n",
       " 7,\n",
       " 8,\n",
       " 9,\n",
       " 10,\n",
       " 11,\n",
       " 12,\n",
       " 13,\n",
       " 14,\n",
       " 15,\n",
       " 16,\n",
       " 17,\n",
       " 18,\n",
       " 19,\n",
       " 20,\n",
       " 21,\n",
       " 22,\n",
       " 23,\n",
       " 24,\n",
       " 25,\n",
       " 26,\n",
       " 27,\n",
       " 28,\n",
       " 29,\n",
       " 30,\n",
       " 31,\n",
       " 32,\n",
       " 33,\n",
       " 34,\n",
       " 35,\n",
       " 36,\n",
       " 37,\n",
       " 38,\n",
       " 39,\n",
       " 40,\n",
       " 41,\n",
       " 42,\n",
       " 43,\n",
       " 44,\n",
       " 45,\n",
       " 46,\n",
       " 47,\n",
       " 48,\n",
       " 49,\n",
       " 50,\n",
       " 51,\n",
       " 52,\n",
       " 53,\n",
       " 54,\n",
       " 55,\n",
       " 56,\n",
       " 57,\n",
       " 58,\n",
       " 59,\n",
       " 60,\n",
       " 61,\n",
       " 62,\n",
       " 63,\n",
       " 64,\n",
       " 65,\n",
       " 66,\n",
       " 67,\n",
       " 68,\n",
       " 69,\n",
       " 70,\n",
       " 71,\n",
       " 72,\n",
       " 73,\n",
       " 74,\n",
       " 75,\n",
       " 76,\n",
       " 77,\n",
       " 78,\n",
       " 79,\n",
       " 80,\n",
       " 81,\n",
       " 82,\n",
       " 83,\n",
       " 84,\n",
       " 85,\n",
       " 86,\n",
       " 87,\n",
       " 88,\n",
       " 89,\n",
       " 90,\n",
       " 91,\n",
       " 92,\n",
       " 93,\n",
       " 94,\n",
       " 95,\n",
       " 96,\n",
       " 97,\n",
       " 98,\n",
       " 99,\n",
       " 100,\n",
       " 101,\n",
       " 102,\n",
       " 103,\n",
       " 104,\n",
       " 105,\n",
       " 106,\n",
       " 107,\n",
       " 108,\n",
       " 109,\n",
       " 110,\n",
       " 111,\n",
       " 112,\n",
       " 113,\n",
       " 114,\n",
       " 115,\n",
       " 116,\n",
       " 117,\n",
       " 118,\n",
       " 119,\n",
       " 120,\n",
       " 121,\n",
       " 122,\n",
       " 123,\n",
       " 124,\n",
       " 125,\n",
       " 126,\n",
       " 127,\n",
       " 128,\n",
       " 129,\n",
       " 130,\n",
       " 131,\n",
       " 132,\n",
       " 133,\n",
       " 134,\n",
       " 135,\n",
       " 136,\n",
       " 137,\n",
       " 138,\n",
       " 139,\n",
       " 140,\n",
       " 141,\n",
       " 142,\n",
       " 143,\n",
       " 144,\n",
       " 145,\n",
       " 146,\n",
       " 147,\n",
       " 148,\n",
       " 149,\n",
       " 150,\n",
       " 151,\n",
       " 152,\n",
       " 153,\n",
       " 154,\n",
       " 155,\n",
       " 156,\n",
       " 157,\n",
       " 158,\n",
       " 159,\n",
       " 160,\n",
       " 161,\n",
       " 162,\n",
       " 163,\n",
       " 164,\n",
       " 165,\n",
       " 166,\n",
       " 167,\n",
       " 168,\n",
       " 169,\n",
       " 170,\n",
       " 171,\n",
       " 172,\n",
       " 173,\n",
       " 174,\n",
       " 175,\n",
       " 176,\n",
       " 177,\n",
       " 178,\n",
       " 179,\n",
       " 180,\n",
       " 181,\n",
       " 182,\n",
       " 183,\n",
       " 184,\n",
       " 185,\n",
       " 186,\n",
       " 187,\n",
       " 188,\n",
       " 189,\n",
       " 190,\n",
       " 191,\n",
       " 192,\n",
       " 193,\n",
       " 194,\n",
       " 195,\n",
       " 196,\n",
       " 197,\n",
       " 198,\n",
       " 199,\n",
       " 200,\n",
       " 201,\n",
       " 202,\n",
       " 203,\n",
       " 204,\n",
       " 205,\n",
       " 206,\n",
       " 207,\n",
       " 208,\n",
       " 209,\n",
       " 210,\n",
       " 211,\n",
       " 212,\n",
       " 213,\n",
       " 214,\n",
       " 215,\n",
       " 216,\n",
       " 217,\n",
       " 218,\n",
       " 219,\n",
       " 220,\n",
       " 221,\n",
       " 222,\n",
       " 223,\n",
       " 224,\n",
       " 225,\n",
       " 226,\n",
       " 227,\n",
       " 228,\n",
       " 229,\n",
       " 230,\n",
       " 231,\n",
       " 232,\n",
       " 233,\n",
       " 234,\n",
       " 235,\n",
       " 236,\n",
       " 237,\n",
       " 238,\n",
       " 239,\n",
       " 240,\n",
       " 241,\n",
       " 242,\n",
       " 243,\n",
       " 244,\n",
       " 245,\n",
       " 246,\n",
       " 247,\n",
       " 248,\n",
       " 249,\n",
       " 250,\n",
       " 251,\n",
       " 252,\n",
       " 253,\n",
       " 254,\n",
       " 255,\n",
       " 256,\n",
       " 257,\n",
       " 258,\n",
       " 259,\n",
       " 260,\n",
       " 261,\n",
       " 262,\n",
       " 263,\n",
       " 264,\n",
       " 265,\n",
       " 266,\n",
       " 267,\n",
       " 268,\n",
       " 269,\n",
       " 270,\n",
       " 271,\n",
       " 272,\n",
       " 273,\n",
       " 274,\n",
       " 275,\n",
       " 276,\n",
       " 277,\n",
       " 278,\n",
       " 279,\n",
       " 280,\n",
       " 281,\n",
       " 282,\n",
       " 283,\n",
       " 284,\n",
       " 285,\n",
       " 286,\n",
       " 287,\n",
       " 288,\n",
       " 289,\n",
       " 290,\n",
       " 291,\n",
       " 292,\n",
       " 293,\n",
       " 294,\n",
       " 295,\n",
       " 296,\n",
       " 297,\n",
       " 298,\n",
       " 299,\n",
       " 300,\n",
       " 301,\n",
       " 302,\n",
       " 303,\n",
       " 304,\n",
       " 305,\n",
       " 306,\n",
       " 307,\n",
       " 308,\n",
       " 309,\n",
       " 310,\n",
       " 311,\n",
       " 312,\n",
       " 313,\n",
       " 314,\n",
       " 315,\n",
       " 316,\n",
       " 317,\n",
       " 318,\n",
       " 319,\n",
       " 320,\n",
       " 321,\n",
       " 322,\n",
       " 323,\n",
       " 324,\n",
       " 325,\n",
       " 326,\n",
       " 327,\n",
       " 328,\n",
       " 329,\n",
       " 330,\n",
       " 331,\n",
       " 332,\n",
       " 333,\n",
       " 334,\n",
       " 335,\n",
       " 336,\n",
       " 337,\n",
       " 338,\n",
       " 339,\n",
       " 340,\n",
       " 341,\n",
       " 342,\n",
       " 343,\n",
       " 344,\n",
       " 345,\n",
       " 346,\n",
       " 347,\n",
       " 348,\n",
       " 349,\n",
       " 350,\n",
       " 351,\n",
       " 352,\n",
       " 353,\n",
       " 354,\n",
       " 355,\n",
       " 356,\n",
       " 357,\n",
       " 358,\n",
       " 359,\n",
       " 360,\n",
       " 361,\n",
       " 362,\n",
       " 363,\n",
       " 364,\n",
       " 365,\n",
       " 366,\n",
       " 367,\n",
       " 368,\n",
       " 369,\n",
       " 370,\n",
       " 371,\n",
       " 372,\n",
       " 373,\n",
       " 374,\n",
       " 375,\n",
       " 376,\n",
       " 377,\n",
       " 378,\n",
       " 379,\n",
       " 380,\n",
       " 381,\n",
       " 382,\n",
       " 383,\n",
       " 384,\n",
       " 385,\n",
       " 386,\n",
       " 387,\n",
       " 388,\n",
       " 389,\n",
       " 390,\n",
       " 391,\n",
       " 392,\n",
       " 393,\n",
       " 394,\n",
       " 395,\n",
       " 396,\n",
       " 397,\n",
       " 398,\n",
       " 399,\n",
       " 400,\n",
       " 401,\n",
       " 402,\n",
       " 403,\n",
       " 404,\n",
       " 405,\n",
       " 406,\n",
       " 407,\n",
       " 408,\n",
       " 409,\n",
       " 410,\n",
       " 411,\n",
       " 412,\n",
       " 413,\n",
       " 414,\n",
       " 415,\n",
       " 416,\n",
       " 417,\n",
       " 418,\n",
       " 419,\n",
       " 420,\n",
       " 421,\n",
       " 422,\n",
       " 423,\n",
       " 424,\n",
       " 425,\n",
       " 426,\n",
       " 427,\n",
       " 428,\n",
       " 429,\n",
       " 430,\n",
       " 431,\n",
       " 432,\n",
       " 433,\n",
       " 434,\n",
       " 435,\n",
       " 436,\n",
       " 437,\n",
       " 438,\n",
       " 439,\n",
       " 440,\n",
       " 441,\n",
       " 442,\n",
       " 443,\n",
       " 444,\n",
       " 445,\n",
       " 446,\n",
       " 447,\n",
       " 448,\n",
       " 449,\n",
       " 450,\n",
       " 451,\n",
       " 452,\n",
       " 453,\n",
       " 454,\n",
       " 455,\n",
       " 456,\n",
       " 457,\n",
       " 458,\n",
       " 459,\n",
       " 460,\n",
       " 461,\n",
       " 462,\n",
       " 463,\n",
       " 464,\n",
       " 465,\n",
       " 466,\n",
       " 467,\n",
       " 468,\n",
       " 469,\n",
       " 470,\n",
       " 471,\n",
       " 472,\n",
       " 473,\n",
       " 474,\n",
       " 475,\n",
       " 476,\n",
       " 477,\n",
       " 478,\n",
       " 479,\n",
       " 480,\n",
       " 481,\n",
       " 482,\n",
       " 483,\n",
       " 484,\n",
       " 485,\n",
       " 486,\n",
       " 487,\n",
       " 488,\n",
       " 489,\n",
       " 490,\n",
       " 491,\n",
       " 492,\n",
       " 493,\n",
       " 494,\n",
       " 495,\n",
       " 496,\n",
       " 497,\n",
       " 498,\n",
       " 499,\n",
       " 500]"
      ]
     },
     "execution_count": 4,
     "metadata": {},
     "output_type": "execute_result"
    }
   ],
   "source": [
    "l"
   ]
  },
  {
   "cell_type": "markdown",
   "id": "92ff083c",
   "metadata": {},
   "source": [
    "# Tuples and Dictionaries"
   ]
  },
  {
   "cell_type": "code",
   "execution_count": 18,
   "id": "8cdddd26",
   "metadata": {},
   "outputs": [],
   "source": [
    "score = {}"
   ]
  },
  {
   "cell_type": "code",
   "execution_count": 19,
   "id": "91c101c7",
   "metadata": {},
   "outputs": [],
   "source": [
    "score[\"Tet1\"] = {}\n",
    "score[\"Tet2\"] = {}"
   ]
  },
  {
   "cell_type": "code",
   "execution_count": 20,
   "id": "a8396a6b",
   "metadata": {},
   "outputs": [],
   "source": [
    "score[\"Tet1\"][\"Dhawan\"] = 76\n",
    "score[\"Tet2\"][\"Dhawan\"] = 27\n",
    "score[\"Tet1\"][\"Kohli\"] = 200"
   ]
  },
  {
   "cell_type": "code",
   "execution_count": 21,
   "id": "0ccd2d6c",
   "metadata": {},
   "outputs": [
    {
     "data": {
      "text/plain": [
       "{'Tet1': {'Dhawan': 76, 'Kohli': 200}, 'Tet2': {'Dhawan': 27}}"
      ]
     },
     "execution_count": 21,
     "metadata": {},
     "output_type": "execute_result"
    }
   ],
   "source": [
    "score"
   ]
  },
  {
   "cell_type": "code",
   "execution_count": null,
   "id": "aa4ac7e7",
   "metadata": {},
   "outputs": [],
   "source": []
  },
  {
   "cell_type": "code",
   "execution_count": 22,
   "id": "7230f018",
   "metadata": {},
   "outputs": [],
   "source": [
    "d ={}"
   ]
  },
  {
   "cell_type": "code",
   "execution_count": 23,
   "id": "85eb40ce",
   "metadata": {},
   "outputs": [],
   "source": [
    "for l in \"abcdefghi\":\n",
    "    d[l]=l"
   ]
  },
  {
   "cell_type": "code",
   "execution_count": 24,
   "id": "18c49635",
   "metadata": {},
   "outputs": [
    {
     "data": {
      "text/plain": [
       "'a'"
      ]
     },
     "execution_count": 24,
     "metadata": {},
     "output_type": "execute_result"
    }
   ],
   "source": [
    "d[\"a\"]"
   ]
  },
  {
   "cell_type": "code",
   "execution_count": 25,
   "id": "584750e9",
   "metadata": {},
   "outputs": [
    {
     "data": {
      "text/plain": [
       "'i'"
      ]
     },
     "execution_count": 25,
     "metadata": {},
     "output_type": "execute_result"
    }
   ],
   "source": [
    "d['i']"
   ]
  },
  {
   "cell_type": "code",
   "execution_count": 26,
   "id": "98eedb7f",
   "metadata": {},
   "outputs": [
    {
     "data": {
      "text/plain": [
       "dict_keys(['a', 'b', 'c', 'd', 'e', 'f', 'g', 'h', 'i'])"
      ]
     },
     "execution_count": 26,
     "metadata": {},
     "output_type": "execute_result"
    }
   ],
   "source": [
    "d.keys()"
   ]
  },
  {
   "cell_type": "code",
   "execution_count": 30,
   "id": "a79e106c",
   "metadata": {},
   "outputs": [
    {
     "ename": "NameError",
     "evalue": "name 'Test1' is not defined",
     "output_type": "error",
     "traceback": [
      "\u001b[1;31m---------------------------------------------------------------------------\u001b[0m",
      "\u001b[1;31mNameError\u001b[0m                                 Traceback (most recent call last)",
      "\u001b[1;32m~\\AppData\\Local\\Temp\\ipykernel_13140\\1817891799.py\u001b[0m in \u001b[0;36m<module>\u001b[1;34m\u001b[0m\n\u001b[0;32m      1\u001b[0m \u001b[0mtotal\u001b[0m \u001b[1;33m=\u001b[0m \u001b[1;36m0\u001b[0m\u001b[1;33m\u001b[0m\u001b[1;33m\u001b[0m\u001b[0m\n\u001b[1;32m----> 2\u001b[1;33m \u001b[1;32mfor\u001b[0m \u001b[0ms\u001b[0m \u001b[1;32min\u001b[0m \u001b[0mTest1\u001b[0m\u001b[1;33m.\u001b[0m\u001b[0mvalues\u001b[0m\u001b[1;33m(\u001b[0m\u001b[1;33m)\u001b[0m\u001b[1;33m:\u001b[0m\u001b[1;33m\u001b[0m\u001b[1;33m\u001b[0m\u001b[0m\n\u001b[0m\u001b[0;32m      3\u001b[0m     \u001b[0mtotal\u001b[0m \u001b[1;33m=\u001b[0m \u001b[0mtotal\u001b[0m \u001b[1;33m+\u001b[0m \u001b[0ms\u001b[0m\u001b[1;33m\u001b[0m\u001b[1;33m\u001b[0m\u001b[0m\n",
      "\u001b[1;31mNameError\u001b[0m: name 'Test1' is not defined"
     ]
    }
   ],
   "source": [
    "total = 0\n",
    "for s in Test1.values():\n",
    "    total = total + s"
   ]
  },
  {
   "cell_type": "code",
   "execution_count": 31,
   "id": "16a7fd28",
   "metadata": {},
   "outputs": [
    {
     "ename": "TypeError",
     "evalue": "'int' object does not support item assignment",
     "output_type": "error",
     "traceback": [
      "\u001b[1;31m---------------------------------------------------------------------------\u001b[0m",
      "\u001b[1;31mTypeError\u001b[0m                                 Traceback (most recent call last)",
      "\u001b[1;32m~\\AppData\\Local\\Temp\\ipykernel_13140\\3086134994.py\u001b[0m in \u001b[0;36m<module>\u001b[1;34m\u001b[0m\n\u001b[0;32m      1\u001b[0m \u001b[1;32mfor\u001b[0m \u001b[0mn\u001b[0m \u001b[1;32min\u001b[0m \u001b[1;33m[\u001b[0m\u001b[1;34m\"Dhawan\"\u001b[0m\u001b[1;33m,\u001b[0m\u001b[1;34m\"Kohli\"\u001b[0m\u001b[1;33m]\u001b[0m\u001b[1;33m:\u001b[0m\u001b[1;33m\u001b[0m\u001b[1;33m\u001b[0m\u001b[0m\n\u001b[1;32m----> 2\u001b[1;33m     \u001b[0mtotal\u001b[0m\u001b[1;33m[\u001b[0m\u001b[0mn\u001b[0m\u001b[1;33m]\u001b[0m \u001b[1;33m=\u001b[0m \u001b[1;36m0\u001b[0m\u001b[1;33m\u001b[0m\u001b[1;33m\u001b[0m\u001b[0m\n\u001b[0m\u001b[0;32m      3\u001b[0m     \u001b[1;32mfor\u001b[0m \u001b[0mmatch\u001b[0m \u001b[1;32min\u001b[0m \u001b[0mscore\u001b[0m\u001b[1;33m.\u001b[0m\u001b[0mkeys\u001b[0m\u001b[1;33m(\u001b[0m\u001b[1;33m)\u001b[0m\u001b[1;33m:\u001b[0m\u001b[1;33m\u001b[0m\u001b[1;33m\u001b[0m\u001b[0m\n\u001b[0;32m      4\u001b[0m         \u001b[1;32mif\u001b[0m \u001b[0mn\u001b[0m \u001b[1;32min\u001b[0m \u001b[0mscore\u001b[0m\u001b[1;33m[\u001b[0m\u001b[0mmatch\u001b[0m\u001b[1;33m]\u001b[0m\u001b[1;33m.\u001b[0m\u001b[0mkeys\u001b[0m\u001b[1;33m(\u001b[0m\u001b[1;33m)\u001b[0m\u001b[1;33m:\u001b[0m\u001b[1;33m\u001b[0m\u001b[1;33m\u001b[0m\u001b[0m\n\u001b[0;32m      5\u001b[0m             \u001b[0mtotal\u001b[0m\u001b[1;33m[\u001b[0m\u001b[0mn\u001b[0m\u001b[1;33m]\u001b[0m \u001b[1;33m=\u001b[0m \u001b[0mtotal\u001b[0m\u001b[1;33m[\u001b[0m\u001b[0mn\u001b[0m\u001b[1;33m]\u001b[0m \u001b[1;33m+\u001b[0m \u001b[0mscore\u001b[0m\u001b[1;33m[\u001b[0m\u001b[0mmatch\u001b[0m\u001b[1;33m]\u001b[0m\u001b[1;33m[\u001b[0m\u001b[0mn\u001b[0m\u001b[1;33m]\u001b[0m\u001b[1;33m\u001b[0m\u001b[1;33m\u001b[0m\u001b[0m\n",
      "\u001b[1;31mTypeError\u001b[0m: 'int' object does not support item assignment"
     ]
    }
   ],
   "source": [
    "for n in [\"Dhawan\",\"Kohli\"]:\n",
    "    total[n] = 0\n",
    "    for match in score.keys():\n",
    "        if n in score[match].keys():\n",
    "            total[n] = total[n] + score[match][n]"
   ]
  },
  {
   "cell_type": "code",
   "execution_count": 32,
   "id": "16c71e04",
   "metadata": {},
   "outputs": [
    {
     "data": {
      "text/plain": [
       "{0: 7}"
      ]
     },
     "execution_count": 32,
     "metadata": {},
     "output_type": "execute_result"
    }
   ],
   "source": [
    "d = {}\n",
    "d[0]=7\n",
    "d"
   ]
  },
  {
   "cell_type": "markdown",
   "id": "e8ee1538",
   "metadata": {},
   "source": [
    "# Function defination"
   ]
  },
  {
   "cell_type": "code",
   "execution_count": 33,
   "id": "95caedfd",
   "metadata": {},
   "outputs": [],
   "source": [
    "def power(x,n):\n",
    "    ans = 1\n",
    "    for i in range(0,n):\n",
    "        ans = ans*x\n",
    "    return(ans)"
   ]
  },
  {
   "cell_type": "code",
   "execution_count": 35,
   "id": "27cc0437",
   "metadata": {},
   "outputs": [
    {
     "data": {
      "text/plain": [
       "243"
      ]
     },
     "execution_count": 35,
     "metadata": {},
     "output_type": "execute_result"
    }
   ],
   "source": [
    "power(n=5,x=3)"
   ]
  },
  {
   "cell_type": "code",
   "execution_count": 36,
   "id": "c0a41bdd",
   "metadata": {},
   "outputs": [
    {
     "data": {
      "text/plain": [
       "76"
      ]
     },
     "execution_count": 36,
     "metadata": {},
     "output_type": "execute_result"
    }
   ],
   "source": [
    "int('76')"
   ]
  },
  {
   "cell_type": "code",
   "execution_count": 37,
   "id": "4e0f035a",
   "metadata": {},
   "outputs": [
    {
     "ename": "ValueError",
     "evalue": "invalid literal for int() with base 10: 'A5'",
     "output_type": "error",
     "traceback": [
      "\u001b[1;31m---------------------------------------------------------------------------\u001b[0m",
      "\u001b[1;31mValueError\u001b[0m                                Traceback (most recent call last)",
      "\u001b[1;32m~\\AppData\\Local\\Temp\\ipykernel_13140\\3275713624.py\u001b[0m in \u001b[0;36m<module>\u001b[1;34m\u001b[0m\n\u001b[1;32m----> 1\u001b[1;33m \u001b[0mint\u001b[0m\u001b[1;33m(\u001b[0m\u001b[1;34m'A5'\u001b[0m\u001b[1;33m)\u001b[0m\u001b[1;33m\u001b[0m\u001b[1;33m\u001b[0m\u001b[0m\n\u001b[0m",
      "\u001b[1;31mValueError\u001b[0m: invalid literal for int() with base 10: 'A5'"
     ]
    }
   ],
   "source": [
    "int('A5')"
   ]
  },
  {
   "cell_type": "markdown",
   "id": "302b4ed2",
   "metadata": {},
   "source": [
    "Actually int(s,b) takes two argument ,string s and base b, b has default value 10"
   ]
  },
  {
   "cell_type": "code",
   "execution_count": 40,
   "id": "956602a2",
   "metadata": {},
   "outputs": [
    {
     "data": {
      "text/plain": [
       "170"
      ]
     },
     "execution_count": 40,
     "metadata": {},
     "output_type": "execute_result"
    }
   ],
   "source": [
    "int('A5',16)   # 10*16+5  # A MEANS 10"
   ]
  },
  {
   "cell_type": "code",
   "execution_count": 41,
   "id": "e2464c45",
   "metadata": {},
   "outputs": [
    {
     "data": {
      "text/plain": [
       "170"
      ]
     },
     "execution_count": 41,
     "metadata": {},
     "output_type": "execute_result"
    }
   ],
   "source": [
    "int('B5',15)  # 11*15+5"
   ]
  },
  {
   "cell_type": "code",
   "execution_count": 44,
   "id": "e190d293",
   "metadata": {},
   "outputs": [],
   "source": [
    "def apply(f,x,n):   # f: function, x: argument, x:repitation\n",
    "    res = x\n",
    "    for i in range(n):\n",
    "        res = f(res)\n",
    "    return(res)    "
   ]
  },
  {
   "cell_type": "code",
   "execution_count": 45,
   "id": "38feb6cb",
   "metadata": {},
   "outputs": [],
   "source": [
    "def square(x):\n",
    "    return(x*x)"
   ]
  },
  {
   "cell_type": "code",
   "execution_count": 46,
   "id": "c15cb768",
   "metadata": {},
   "outputs": [
    {
     "data": {
      "text/plain": [
       "25"
      ]
     },
     "execution_count": 46,
     "metadata": {},
     "output_type": "execute_result"
    }
   ],
   "source": [
    " square(5)"
   ]
  },
  {
   "cell_type": "code",
   "execution_count": 48,
   "id": "ca7aaecf",
   "metadata": {},
   "outputs": [
    {
     "data": {
      "text/plain": [
       "625"
      ]
     },
     "execution_count": 48,
     "metadata": {},
     "output_type": "execute_result"
    }
   ],
   "source": [
    "apply(square,5,2)  #  square(square(5))"
   ]
  },
  {
   "cell_type": "code",
   "execution_count": 49,
   "id": "3e6d4f6e",
   "metadata": {},
   "outputs": [
    {
     "data": {
      "text/plain": [
       "625"
      ]
     },
     "execution_count": 49,
     "metadata": {},
     "output_type": "execute_result"
    }
   ],
   "source": [
    "square(square(5))"
   ]
  },
  {
   "cell_type": "markdown",
   "id": "2045aff2",
   "metadata": {},
   "source": [
    "# List comprehension"
   ]
  },
  {
   "cell_type": "code",
   "execution_count": 51,
   "id": "9736c40c",
   "metadata": {},
   "outputs": [],
   "source": [
    "# update an entire list\n",
    "def applylist(f,l):\n",
    "    for x in l:\n",
    "        x = f(x)"
   ]
  },
  {
   "cell_type": "markdown",
   "id": "2bfc5bb8",
   "metadata": {},
   "source": [
    "### Built in function map()\n",
    "map(f,l) applies f to each element of l\n",
    "\n",
    "output of map(f,l) is not list!\n",
    "\n",
    "use lisr(map(f,l)) to get a list"
   ]
  },
  {
   "cell_type": "code",
   "execution_count": 65,
   "id": "964d5b4d",
   "metadata": {},
   "outputs": [
    {
     "ename": "SyntaxError",
     "evalue": "'return' outside function (165463715.py, line 6)",
     "output_type": "error",
     "traceback": [
      "\u001b[1;36m  File \u001b[1;32m\"C:\\Users\\pc\\AppData\\Local\\Temp\\ipykernel_13140\\165463715.py\"\u001b[1;36m, line \u001b[1;32m6\u001b[0m\n\u001b[1;33m    return(primelist)\u001b[0m\n\u001b[1;37m    ^\u001b[0m\n\u001b[1;31mSyntaxError\u001b[0m\u001b[1;31m:\u001b[0m 'return' outside function\n"
     ]
    }
   ],
   "source": [
    "numberlist = list(range(20))\n",
    "primelist = []\n",
    "for i in numberlist:\n",
    "    if isprime(i):\n",
    "        primelist.append(i)\n",
    "        return(primelist)                \n",
    "\n",
    "        "
   ]
  },
  {
   "cell_type": "code",
   "execution_count": 68,
   "id": "a6432ec7",
   "metadata": {},
   "outputs": [],
   "source": [
    "# in general\n",
    "def select(property,l):\n",
    "    sublist = []\n",
    "    for x in l:\n",
    "        if property(x):\n",
    "            sublist.append(x)\n",
    "    return(sublist)        \n",
    "\n",
    "# note that property is a function that returns True or False for each element"
   ]
  },
  {
   "cell_type": "markdown",
   "id": "e3a1047e",
   "metadata": {},
   "source": [
    "### Built in function filter()\n",
    "filter(p,l) chacks p for each element of l\n",
    "\n",
    "output of sublist of values that satisfy p"
   ]
  },
  {
   "cell_type": "markdown",
   "id": "704fabbf",
   "metadata": {},
   "source": [
    "#### Combining map and filter"
   ]
  },
  {
   "cell_type": "code",
   "execution_count": 73,
   "id": "0f36212b",
   "metadata": {},
   "outputs": [
    {
     "data": {
      "text/plain": [
       "[0,\n",
       " 4,\n",
       " 16,\n",
       " 36,\n",
       " 64,\n",
       " 100,\n",
       " 144,\n",
       " 196,\n",
       " 256,\n",
       " 324,\n",
       " 400,\n",
       " 484,\n",
       " 576,\n",
       " 676,\n",
       " 784,\n",
       " 900,\n",
       " 1024,\n",
       " 1156,\n",
       " 1296,\n",
       " 1444,\n",
       " 1600,\n",
       " 1764,\n",
       " 1936,\n",
       " 2116,\n",
       " 2304,\n",
       " 2500,\n",
       " 2704,\n",
       " 2916,\n",
       " 3136,\n",
       " 3364,\n",
       " 3600,\n",
       " 3844,\n",
       " 4096,\n",
       " 4356,\n",
       " 4624,\n",
       " 4900,\n",
       " 5184,\n",
       " 5476,\n",
       " 5776,\n",
       " 6084,\n",
       " 6400,\n",
       " 6724,\n",
       " 7056,\n",
       " 7396,\n",
       " 7744,\n",
       " 8100,\n",
       " 8464,\n",
       " 8836,\n",
       " 9216,\n",
       " 9604]"
      ]
     },
     "execution_count": 73,
     "metadata": {},
     "output_type": "execute_result"
    }
   ],
   "source": [
    "# sum of square of even number from 0 to 99\n",
    "#list(map(square,filter(iseven,range(100))))\n",
    " \n",
    "def square(x):\n",
    "    return(x*x)\n",
    "\n",
    "def iseven(x):\n",
    "    return(x%2==0)\n",
    "list(map(square,filter(iseven,range(100))))"
   ]
  },
  {
   "cell_type": "markdown",
   "id": "3e234ae0",
   "metadata": {},
   "source": [
    "# Pythagorean triple: x^2 + y^2 = z^2"
   ]
  },
  {
   "cell_type": "markdown",
   "id": "11b7c468",
   "metadata": {},
   "source": [
    "+ {(x,y,z)|1<= x,y,z <=n,x^2 + y^2 = z^2}"
   ]
  },
  {
   "cell_type": "code",
   "execution_count": 85,
   "id": "003090df",
   "metadata": {},
   "outputs": [
    {
     "data": {
      "text/plain": [
       "[0,\n",
       " 4,\n",
       " 16,\n",
       " 36,\n",
       " 64,\n",
       " 100,\n",
       " 144,\n",
       " 196,\n",
       " 256,\n",
       " 324,\n",
       " 400,\n",
       " 484,\n",
       " 576,\n",
       " 676,\n",
       " 784,\n",
       " 900,\n",
       " 1024,\n",
       " 1156,\n",
       " 1296,\n",
       " 1444,\n",
       " 1600,\n",
       " 1764,\n",
       " 1936,\n",
       " 2116,\n",
       " 2304,\n",
       " 2500,\n",
       " 2704,\n",
       " 2916,\n",
       " 3136,\n",
       " 3364,\n",
       " 3600,\n",
       " 3844,\n",
       " 4096,\n",
       " 4356,\n",
       " 4624,\n",
       " 4900,\n",
       " 5184,\n",
       " 5476,\n",
       " 5776,\n",
       " 6084,\n",
       " 6400,\n",
       " 6724,\n",
       " 7056,\n",
       " 7396,\n",
       " 7744,\n",
       " 8100,\n",
       " 8464,\n",
       " 8836,\n",
       " 9216,\n",
       " 9604]"
      ]
     },
     "execution_count": 85,
     "metadata": {},
     "output_type": "execute_result"
    }
   ],
   "source": [
    "# square of even no. below hundred\n",
    "[ square(x) for x in range(100) if iseven(x) ]"
   ]
  },
  {
   "cell_type": "code",
   "execution_count": 92,
   "id": "52a052ae",
   "metadata": {},
   "outputs": [
    {
     "data": {
      "text/plain": [
       "[(0, 0, 0),\n",
       " (0, 1, 1),\n",
       " (0, 2, 2),\n",
       " (0, 3, 3),\n",
       " (0, 4, 4),\n",
       " (0, 5, 5),\n",
       " (0, 6, 6),\n",
       " (0, 7, 7),\n",
       " (0, 8, 8),\n",
       " (0, 9, 9),\n",
       " (0, 10, 10),\n",
       " (0, 11, 11),\n",
       " (0, 12, 12),\n",
       " (0, 13, 13),\n",
       " (0, 14, 14),\n",
       " (0, 15, 15),\n",
       " (0, 16, 16),\n",
       " (0, 17, 17),\n",
       " (0, 18, 18),\n",
       " (0, 19, 19),\n",
       " (0, 20, 20),\n",
       " (0, 21, 21),\n",
       " (0, 22, 22),\n",
       " (0, 23, 23),\n",
       " (0, 24, 24),\n",
       " (0, 25, 25),\n",
       " (0, 26, 26),\n",
       " (0, 27, 27),\n",
       " (0, 28, 28),\n",
       " (0, 29, 29),\n",
       " (0, 30, 30),\n",
       " (0, 31, 31),\n",
       " (0, 32, 32),\n",
       " (0, 33, 33),\n",
       " (0, 34, 34),\n",
       " (0, 35, 35),\n",
       " (0, 36, 36),\n",
       " (0, 37, 37),\n",
       " (0, 38, 38),\n",
       " (0, 39, 39),\n",
       " (0, 40, 40),\n",
       " (0, 41, 41),\n",
       " (0, 42, 42),\n",
       " (0, 43, 43),\n",
       " (0, 44, 44),\n",
       " (0, 45, 45),\n",
       " (0, 46, 46),\n",
       " (0, 47, 47),\n",
       " (0, 48, 48),\n",
       " (0, 49, 49),\n",
       " (0, 50, 50),\n",
       " (0, 51, 51),\n",
       " (0, 52, 52),\n",
       " (0, 53, 53),\n",
       " (0, 54, 54),\n",
       " (0, 55, 55),\n",
       " (0, 56, 56),\n",
       " (0, 57, 57),\n",
       " (0, 58, 58),\n",
       " (0, 59, 59),\n",
       " (0, 60, 60),\n",
       " (0, 61, 61),\n",
       " (0, 62, 62),\n",
       " (0, 63, 63),\n",
       " (0, 64, 64),\n",
       " (0, 65, 65),\n",
       " (0, 66, 66),\n",
       " (0, 67, 67),\n",
       " (0, 68, 68),\n",
       " (0, 69, 69),\n",
       " (0, 70, 70),\n",
       " (0, 71, 71),\n",
       " (0, 72, 72),\n",
       " (0, 73, 73),\n",
       " (0, 74, 74),\n",
       " (0, 75, 75),\n",
       " (0, 76, 76),\n",
       " (0, 77, 77),\n",
       " (0, 78, 78),\n",
       " (0, 79, 79),\n",
       " (0, 80, 80),\n",
       " (0, 81, 81),\n",
       " (0, 82, 82),\n",
       " (0, 83, 83),\n",
       " (0, 84, 84),\n",
       " (0, 85, 85),\n",
       " (0, 86, 86),\n",
       " (0, 87, 87),\n",
       " (0, 88, 88),\n",
       " (0, 89, 89),\n",
       " (0, 90, 90),\n",
       " (0, 91, 91),\n",
       " (0, 92, 92),\n",
       " (0, 93, 93),\n",
       " (0, 94, 94),\n",
       " (0, 95, 95),\n",
       " (0, 96, 96),\n",
       " (0, 97, 97),\n",
       " (0, 98, 98),\n",
       " (0, 99, 99),\n",
       " (1, 0, 1),\n",
       " (2, 0, 2),\n",
       " (3, 0, 3),\n",
       " (3, 4, 5),\n",
       " (4, 0, 4),\n",
       " (4, 3, 5),\n",
       " (5, 0, 5),\n",
       " (5, 12, 13),\n",
       " (6, 0, 6),\n",
       " (6, 8, 10),\n",
       " (7, 0, 7),\n",
       " (7, 24, 25),\n",
       " (8, 0, 8),\n",
       " (8, 6, 10),\n",
       " (8, 15, 17),\n",
       " (9, 0, 9),\n",
       " (9, 12, 15),\n",
       " (9, 40, 41),\n",
       " (10, 0, 10),\n",
       " (10, 24, 26),\n",
       " (11, 0, 11),\n",
       " (11, 60, 61),\n",
       " (12, 0, 12),\n",
       " (12, 5, 13),\n",
       " (12, 9, 15),\n",
       " (12, 16, 20),\n",
       " (12, 35, 37),\n",
       " (13, 0, 13),\n",
       " (13, 84, 85),\n",
       " (14, 0, 14),\n",
       " (14, 48, 50),\n",
       " (15, 0, 15),\n",
       " (15, 8, 17),\n",
       " (15, 20, 25),\n",
       " (15, 36, 39),\n",
       " (16, 0, 16),\n",
       " (16, 12, 20),\n",
       " (16, 30, 34),\n",
       " (16, 63, 65),\n",
       " (17, 0, 17),\n",
       " (18, 0, 18),\n",
       " (18, 24, 30),\n",
       " (18, 80, 82),\n",
       " (19, 0, 19),\n",
       " (20, 0, 20),\n",
       " (20, 15, 25),\n",
       " (20, 21, 29),\n",
       " (20, 48, 52),\n",
       " (21, 0, 21),\n",
       " (21, 20, 29),\n",
       " (21, 28, 35),\n",
       " (21, 72, 75),\n",
       " (22, 0, 22),\n",
       " (23, 0, 23),\n",
       " (24, 0, 24),\n",
       " (24, 7, 25),\n",
       " (24, 10, 26),\n",
       " (24, 18, 30),\n",
       " (24, 32, 40),\n",
       " (24, 45, 51),\n",
       " (24, 70, 74),\n",
       " (25, 0, 25),\n",
       " (25, 60, 65),\n",
       " (26, 0, 26),\n",
       " (27, 0, 27),\n",
       " (27, 36, 45),\n",
       " (28, 0, 28),\n",
       " (28, 21, 35),\n",
       " (28, 45, 53),\n",
       " (29, 0, 29),\n",
       " (30, 0, 30),\n",
       " (30, 16, 34),\n",
       " (30, 40, 50),\n",
       " (30, 72, 78),\n",
       " (31, 0, 31),\n",
       " (32, 0, 32),\n",
       " (32, 24, 40),\n",
       " (32, 60, 68),\n",
       " (33, 0, 33),\n",
       " (33, 44, 55),\n",
       " (33, 56, 65),\n",
       " (34, 0, 34),\n",
       " (35, 0, 35),\n",
       " (35, 12, 37),\n",
       " (35, 84, 91),\n",
       " (36, 0, 36),\n",
       " (36, 15, 39),\n",
       " (36, 27, 45),\n",
       " (36, 48, 60),\n",
       " (36, 77, 85),\n",
       " (37, 0, 37),\n",
       " (38, 0, 38),\n",
       " (39, 0, 39),\n",
       " (39, 52, 65),\n",
       " (39, 80, 89),\n",
       " (40, 0, 40),\n",
       " (40, 9, 41),\n",
       " (40, 30, 50),\n",
       " (40, 42, 58),\n",
       " (40, 75, 85),\n",
       " (41, 0, 41),\n",
       " (42, 0, 42),\n",
       " (42, 40, 58),\n",
       " (42, 56, 70),\n",
       " (43, 0, 43),\n",
       " (44, 0, 44),\n",
       " (44, 33, 55),\n",
       " (45, 0, 45),\n",
       " (45, 24, 51),\n",
       " (45, 28, 53),\n",
       " (45, 60, 75),\n",
       " (46, 0, 46),\n",
       " (47, 0, 47),\n",
       " (48, 0, 48),\n",
       " (48, 14, 50),\n",
       " (48, 20, 52),\n",
       " (48, 36, 60),\n",
       " (48, 55, 73),\n",
       " (48, 64, 80),\n",
       " (49, 0, 49),\n",
       " (50, 0, 50),\n",
       " (51, 0, 51),\n",
       " (51, 68, 85),\n",
       " (52, 0, 52),\n",
       " (52, 39, 65),\n",
       " (53, 0, 53),\n",
       " (54, 0, 54),\n",
       " (54, 72, 90),\n",
       " (55, 0, 55),\n",
       " (55, 48, 73),\n",
       " (56, 0, 56),\n",
       " (56, 33, 65),\n",
       " (56, 42, 70),\n",
       " (57, 0, 57),\n",
       " (57, 76, 95),\n",
       " (58, 0, 58),\n",
       " (59, 0, 59),\n",
       " (60, 0, 60),\n",
       " (60, 11, 61),\n",
       " (60, 25, 65),\n",
       " (60, 32, 68),\n",
       " (60, 45, 75),\n",
       " (60, 63, 87),\n",
       " (61, 0, 61),\n",
       " (62, 0, 62),\n",
       " (63, 0, 63),\n",
       " (63, 16, 65),\n",
       " (63, 60, 87),\n",
       " (64, 0, 64),\n",
       " (64, 48, 80),\n",
       " (65, 0, 65),\n",
       " (65, 72, 97),\n",
       " (66, 0, 66),\n",
       " (67, 0, 67),\n",
       " (68, 0, 68),\n",
       " (68, 51, 85),\n",
       " (69, 0, 69),\n",
       " (70, 0, 70),\n",
       " (70, 24, 74),\n",
       " (71, 0, 71),\n",
       " (72, 0, 72),\n",
       " (72, 21, 75),\n",
       " (72, 30, 78),\n",
       " (72, 54, 90),\n",
       " (72, 65, 97),\n",
       " (73, 0, 73),\n",
       " (74, 0, 74),\n",
       " (75, 0, 75),\n",
       " (75, 40, 85),\n",
       " (76, 0, 76),\n",
       " (76, 57, 95),\n",
       " (77, 0, 77),\n",
       " (77, 36, 85),\n",
       " (78, 0, 78),\n",
       " (79, 0, 79),\n",
       " (80, 0, 80),\n",
       " (80, 18, 82),\n",
       " (80, 39, 89),\n",
       " (81, 0, 81),\n",
       " (82, 0, 82),\n",
       " (83, 0, 83),\n",
       " (84, 0, 84),\n",
       " (84, 13, 85),\n",
       " (84, 35, 91),\n",
       " (85, 0, 85),\n",
       " (86, 0, 86),\n",
       " (87, 0, 87),\n",
       " (88, 0, 88),\n",
       " (89, 0, 89),\n",
       " (90, 0, 90),\n",
       " (91, 0, 91),\n",
       " (92, 0, 92),\n",
       " (93, 0, 93),\n",
       " (94, 0, 94),\n",
       " (95, 0, 95),\n",
       " (96, 0, 96),\n",
       " (97, 0, 97),\n",
       " (98, 0, 98),\n",
       " (99, 0, 99)]"
      ]
     },
     "execution_count": 92,
     "metadata": {},
     "output_type": "execute_result"
    }
   ],
   "source": [
    "[(x,y,z) for x in range(100)\\\n",
    " for y in range(100)\\\n",
    " for z in range(100)\\\n",
    " if x*x + y*y == z*z\n",
    "]  \n"
   ]
  },
  {
   "cell_type": "code",
   "execution_count": 93,
   "id": "a5b5c1e8",
   "metadata": {},
   "outputs": [
    {
     "data": {
      "text/plain": [
       "[(0, 0, 0),\n",
       " (0, 1, 1),\n",
       " (0, 2, 2),\n",
       " (0, 3, 3),\n",
       " (0, 4, 4),\n",
       " (0, 5, 5),\n",
       " (0, 6, 6),\n",
       " (0, 7, 7),\n",
       " (0, 8, 8),\n",
       " (0, 9, 9),\n",
       " (0, 10, 10),\n",
       " (0, 11, 11),\n",
       " (0, 12, 12),\n",
       " (0, 13, 13),\n",
       " (0, 14, 14),\n",
       " (0, 15, 15),\n",
       " (0, 16, 16),\n",
       " (0, 17, 17),\n",
       " (0, 18, 18),\n",
       " (0, 19, 19),\n",
       " (0, 20, 20),\n",
       " (0, 21, 21),\n",
       " (0, 22, 22),\n",
       " (0, 23, 23),\n",
       " (0, 24, 24),\n",
       " (0, 25, 25),\n",
       " (0, 26, 26),\n",
       " (0, 27, 27),\n",
       " (0, 28, 28),\n",
       " (0, 29, 29),\n",
       " (0, 30, 30),\n",
       " (0, 31, 31),\n",
       " (0, 32, 32),\n",
       " (0, 33, 33),\n",
       " (0, 34, 34),\n",
       " (0, 35, 35),\n",
       " (0, 36, 36),\n",
       " (0, 37, 37),\n",
       " (0, 38, 38),\n",
       " (0, 39, 39),\n",
       " (0, 40, 40),\n",
       " (0, 41, 41),\n",
       " (0, 42, 42),\n",
       " (0, 43, 43),\n",
       " (0, 44, 44),\n",
       " (0, 45, 45),\n",
       " (0, 46, 46),\n",
       " (0, 47, 47),\n",
       " (0, 48, 48),\n",
       " (0, 49, 49),\n",
       " (0, 50, 50),\n",
       " (0, 51, 51),\n",
       " (0, 52, 52),\n",
       " (0, 53, 53),\n",
       " (0, 54, 54),\n",
       " (0, 55, 55),\n",
       " (0, 56, 56),\n",
       " (0, 57, 57),\n",
       " (0, 58, 58),\n",
       " (0, 59, 59),\n",
       " (0, 60, 60),\n",
       " (0, 61, 61),\n",
       " (0, 62, 62),\n",
       " (0, 63, 63),\n",
       " (0, 64, 64),\n",
       " (0, 65, 65),\n",
       " (0, 66, 66),\n",
       " (0, 67, 67),\n",
       " (0, 68, 68),\n",
       " (0, 69, 69),\n",
       " (0, 70, 70),\n",
       " (0, 71, 71),\n",
       " (0, 72, 72),\n",
       " (0, 73, 73),\n",
       " (0, 74, 74),\n",
       " (0, 75, 75),\n",
       " (0, 76, 76),\n",
       " (0, 77, 77),\n",
       " (0, 78, 78),\n",
       " (0, 79, 79),\n",
       " (0, 80, 80),\n",
       " (0, 81, 81),\n",
       " (0, 82, 82),\n",
       " (0, 83, 83),\n",
       " (0, 84, 84),\n",
       " (0, 85, 85),\n",
       " (0, 86, 86),\n",
       " (0, 87, 87),\n",
       " (0, 88, 88),\n",
       " (0, 89, 89),\n",
       " (0, 90, 90),\n",
       " (0, 91, 91),\n",
       " (0, 92, 92),\n",
       " (0, 93, 93),\n",
       " (0, 94, 94),\n",
       " (0, 95, 95),\n",
       " (0, 96, 96),\n",
       " (0, 97, 97),\n",
       " (0, 98, 98),\n",
       " (0, 99, 99),\n",
       " (3, 4, 5),\n",
       " (5, 12, 13),\n",
       " (6, 8, 10),\n",
       " (7, 24, 25),\n",
       " (8, 15, 17),\n",
       " (9, 12, 15),\n",
       " (9, 40, 41),\n",
       " (10, 24, 26),\n",
       " (11, 60, 61),\n",
       " (12, 16, 20),\n",
       " (12, 35, 37),\n",
       " (13, 84, 85),\n",
       " (14, 48, 50),\n",
       " (15, 20, 25),\n",
       " (15, 36, 39),\n",
       " (16, 30, 34),\n",
       " (16, 63, 65),\n",
       " (18, 24, 30),\n",
       " (18, 80, 82),\n",
       " (20, 21, 29),\n",
       " (20, 48, 52),\n",
       " (21, 28, 35),\n",
       " (21, 72, 75),\n",
       " (24, 32, 40),\n",
       " (24, 45, 51),\n",
       " (24, 70, 74),\n",
       " (25, 60, 65),\n",
       " (27, 36, 45),\n",
       " (28, 45, 53),\n",
       " (30, 40, 50),\n",
       " (30, 72, 78),\n",
       " (32, 60, 68),\n",
       " (33, 44, 55),\n",
       " (33, 56, 65),\n",
       " (35, 84, 91),\n",
       " (36, 48, 60),\n",
       " (36, 77, 85),\n",
       " (39, 52, 65),\n",
       " (39, 80, 89),\n",
       " (40, 42, 58),\n",
       " (40, 75, 85),\n",
       " (42, 56, 70),\n",
       " (45, 60, 75),\n",
       " (48, 55, 73),\n",
       " (48, 64, 80),\n",
       " (51, 68, 85),\n",
       " (54, 72, 90),\n",
       " (57, 76, 95),\n",
       " (60, 63, 87),\n",
       " (65, 72, 97)]"
      ]
     },
     "execution_count": 93,
     "metadata": {},
     "output_type": "execute_result"
    }
   ],
   "source": [
    "# pythagorean triple with x,y,z below 100, no duplicate\n",
    "[(x,y,z) for x in range(100)\\\n",
    " for y in range(x,100)\\\n",
    " for z in range(y,100)\\\n",
    " if x*x + y*y == z*z\n",
    "]  \n"
   ]
  },
  {
   "cell_type": "code",
   "execution_count": 94,
   "id": "31b7be44",
   "metadata": {},
   "outputs": [],
   "source": [
    "# initialise a 4x3 matrix,stored row wise\n",
    "\n",
    "l = [[ 0 for i in range(3) ] for j in range(4)]"
   ]
  },
  {
   "cell_type": "code",
   "execution_count": 95,
   "id": "1628a14e",
   "metadata": {},
   "outputs": [
    {
     "data": {
      "text/plain": [
       "[[0, 0, 0], [0, 0, 0], [0, 0, 0], [0, 0, 0]]"
      ]
     },
     "execution_count": 95,
     "metadata": {},
     "output_type": "execute_result"
    }
   ],
   "source": [
    "l"
   ]
  },
  {
   "cell_type": "code",
   "execution_count": 96,
   "id": "0c837e91",
   "metadata": {},
   "outputs": [],
   "source": [
    "# warning\n",
    "zerolist = [ 0 for i in range(3) ]\n",
    "l = [ zerolist for j in range(4)]"
   ]
  },
  {
   "cell_type": "code",
   "execution_count": 97,
   "id": "81aed897",
   "metadata": {},
   "outputs": [
    {
     "data": {
      "text/plain": [
       "[[0, 0, 0], [0, 0, 0], [0, 0, 0], [0, 0, 0]]"
      ]
     },
     "execution_count": 97,
     "metadata": {},
     "output_type": "execute_result"
    }
   ],
   "source": [
    "l"
   ]
  },
  {
   "cell_type": "code",
   "execution_count": 98,
   "id": "857e7507",
   "metadata": {},
   "outputs": [
    {
     "data": {
      "text/plain": [
       "[[0, 7, 0], [0, 7, 0], [0, 7, 0], [0, 7, 0]]"
      ]
     },
     "execution_count": 98,
     "metadata": {},
     "output_type": "execute_result"
    }
   ],
   "source": [
    "l[1][1]=7 \n",
    "l  # it is because in l to same list zerolist"
   ]
  },
  {
   "cell_type": "markdown",
   "id": "4e920bf1",
   "metadata": {},
   "source": [
    "# Exception Handling"
   ]
  },
  {
   "cell_type": "markdown",
   "id": "2b96852c",
   "metadata": {},
   "source": [
    "### TYPE OF ERROR"
   ]
  },
  {
   "cell_type": "code",
   "execution_count": 99,
   "id": "33b35c52",
   "metadata": {},
   "outputs": [
    {
     "ename": "SyntaxError",
     "evalue": "invalid syntax (3557246812.py, line 1)",
     "output_type": "error",
     "traceback": [
      "\u001b[1;36m  File \u001b[1;32m\"C:\\Users\\pc\\AppData\\Local\\Temp\\ipykernel_13140\\3557246812.py\"\u001b[1;36m, line \u001b[1;32m1\u001b[0m\n\u001b[1;33m    k = [5;2]\u001b[0m\n\u001b[1;37m          ^\u001b[0m\n\u001b[1;31mSyntaxError\u001b[0m\u001b[1;31m:\u001b[0m invalid syntax\n"
     ]
    }
   ],
   "source": [
    "k = [5;2]"
   ]
  },
  {
   "cell_type": "markdown",
   "id": "c3cb87ac",
   "metadata": {},
   "source": [
    "in above code it show SyntaxError and pointing the error"
   ]
  },
  {
   "cell_type": "markdown",
   "id": "f24d2101",
   "metadata": {},
   "source": [
    " SyntaxError: invalid syntex\n",
    "    \n",
    "NameError : name x is not defined\n",
    "    \n",
    "ZeroDivisionError: division by zero\n",
    "    \n",
    "IndexError: list assignment index out of range"
   ]
  },
  {
   "cell_type": "code",
   "execution_count": 100,
   "id": "4b9a5e1f",
   "metadata": {},
   "outputs": [
    {
     "ename": "SyntaxError",
     "evalue": "invalid syntax (3199749481.py, line 2)",
     "output_type": "error",
     "traceback": [
      "\u001b[1;36m  File \u001b[1;32m\"C:\\Users\\pc\\AppData\\Local\\Temp\\ipykernel_13140\\3199749481.py\"\u001b[1;36m, line \u001b[1;32m2\u001b[0m\n\u001b[1;33m    k = [5;2]\u001b[0m\n\u001b[1;37m          ^\u001b[0m\n\u001b[1;31mSyntaxError\u001b[0m\u001b[1;31m:\u001b[0m invalid syntax\n"
     ]
    }
   ],
   "source": [
    "# SyntaxError\n",
    "k = [5;2]"
   ]
  },
  {
   "cell_type": "markdown",
   "id": "238d971b",
   "metadata": {},
   "source": [
    "in above code it show SyntaxError and pointing the error"
   ]
  },
  {
   "cell_type": "code",
   "execution_count": 102,
   "id": "19567f49",
   "metadata": {},
   "outputs": [
    {
     "ename": "NameError",
     "evalue": "name 'k' is not defined",
     "output_type": "error",
     "traceback": [
      "\u001b[1;31m---------------------------------------------------------------------------\u001b[0m",
      "\u001b[1;31mNameError\u001b[0m                                 Traceback (most recent call last)",
      "\u001b[1;32m~\\AppData\\Local\\Temp\\ipykernel_13140\\1921251732.py\u001b[0m in \u001b[0;36m<module>\u001b[1;34m\u001b[0m\n\u001b[1;32m----> 1\u001b[1;33m \u001b[0my\u001b[0m \u001b[1;33m=\u001b[0m \u001b[1;36m5\u001b[0m\u001b[1;33m*\u001b[0m\u001b[0mk\u001b[0m\u001b[1;33m\u001b[0m\u001b[1;33m\u001b[0m\u001b[0m\n\u001b[0m",
      "\u001b[1;31mNameError\u001b[0m: name 'k' is not defined"
     ]
    }
   ],
   "source": [
    "# NameError\n",
    "y = 5*k  #here k is not defined"
   ]
  },
  {
   "cell_type": "code",
   "execution_count": 103,
   "id": "55bc721a",
   "metadata": {},
   "outputs": [
    {
     "ename": "ZeroDivisionError",
     "evalue": "division by zero",
     "output_type": "error",
     "traceback": [
      "\u001b[1;31m---------------------------------------------------------------------------\u001b[0m",
      "\u001b[1;31mZeroDivisionError\u001b[0m                         Traceback (most recent call last)",
      "\u001b[1;32m~\\AppData\\Local\\Temp\\ipykernel_13140\\2999761734.py\u001b[0m in \u001b[0;36m<module>\u001b[1;34m\u001b[0m\n\u001b[0;32m      1\u001b[0m \u001b[1;31m# ZeroDivisionError\u001b[0m\u001b[1;33m\u001b[0m\u001b[1;33m\u001b[0m\u001b[0m\n\u001b[1;32m----> 2\u001b[1;33m \u001b[0my\u001b[0m \u001b[1;33m=\u001b[0m \u001b[1;36m5\u001b[0m\u001b[1;33m/\u001b[0m\u001b[1;36m0\u001b[0m\u001b[1;33m\u001b[0m\u001b[1;33m\u001b[0m\u001b[0m\n\u001b[0m",
      "\u001b[1;31mZeroDivisionError\u001b[0m: division by zero"
     ]
    }
   ],
   "source": [
    "# ZeroDivisionError\n",
    "y = 5/0"
   ]
  },
  {
   "cell_type": "code",
   "execution_count": 104,
   "id": "fb9362a6",
   "metadata": {},
   "outputs": [
    {
     "ename": "IndexError",
     "evalue": "list index out of range",
     "output_type": "error",
     "traceback": [
      "\u001b[1;31m---------------------------------------------------------------------------\u001b[0m",
      "\u001b[1;31mIndexError\u001b[0m                                Traceback (most recent call last)",
      "\u001b[1;32m~\\AppData\\Local\\Temp\\ipykernel_13140\\51110806.py\u001b[0m in \u001b[0;36m<module>\u001b[1;34m\u001b[0m\n\u001b[0;32m      1\u001b[0m \u001b[1;31m# IndexError\u001b[0m\u001b[1;33m\u001b[0m\u001b[1;33m\u001b[0m\u001b[0m\n\u001b[0;32m      2\u001b[0m \u001b[0ml\u001b[0m \u001b[1;33m=\u001b[0m \u001b[1;33m[\u001b[0m\u001b[1;36m1\u001b[0m\u001b[1;33m,\u001b[0m\u001b[1;36m2\u001b[0m\u001b[1;33m]\u001b[0m\u001b[1;33m\u001b[0m\u001b[1;33m\u001b[0m\u001b[0m\n\u001b[1;32m----> 3\u001b[1;33m \u001b[0ml\u001b[0m\u001b[1;33m[\u001b[0m\u001b[1;36m3\u001b[0m\u001b[1;33m]\u001b[0m\u001b[1;33m\u001b[0m\u001b[1;33m\u001b[0m\u001b[0m\n\u001b[0m",
      "\u001b[1;31mIndexError\u001b[0m: list index out of range"
     ]
    }
   ],
   "source": [
    "# IndexError\n",
    "l = [1,2]\n",
    "l[3]"
   ]
  },
  {
   "cell_type": "markdown",
   "id": "1a0cff42",
   "metadata": {},
   "source": [
    "# Standard input and output"
   ]
  },
  {
   "cell_type": "code",
   "execution_count": 6,
   "id": "a008877c",
   "metadata": {},
   "outputs": [
    {
     "name": "stdout",
     "output_type": "stream",
     "text": [
      "Enter a number: 787\n"
     ]
    }
   ],
   "source": [
    "#Read a line of input and assign to userdata\n",
    "\n",
    "userdata = input(\"Enter a number: \")"
   ]
  },
  {
   "cell_type": "code",
   "execution_count": 7,
   "id": "b72baef9",
   "metadata": {},
   "outputs": [
    {
     "name": "stdout",
     "output_type": "stream",
     "text": [
      "Enter a number:\n",
      " 253\n"
     ]
    }
   ],
   "source": [
    "userdata = input(\"Enter a number:\\n \")"
   ]
  },
  {
   "cell_type": "code",
   "execution_count": 8,
   "id": "4fa1cfb5",
   "metadata": {},
   "outputs": [
    {
     "data": {
      "text/plain": [
       "str"
      ]
     },
     "execution_count": 8,
     "metadata": {},
     "output_type": "execute_result"
    }
   ],
   "source": [
    "type(userdata)"
   ]
  },
  {
   "cell_type": "code",
   "execution_count": 9,
   "id": "bb979d3e",
   "metadata": {},
   "outputs": [],
   "source": [
    "usernum = int(userdata)"
   ]
  },
  {
   "cell_type": "code",
   "execution_count": 10,
   "id": "e7b26bbe",
   "metadata": {},
   "outputs": [
    {
     "data": {
      "text/plain": [
       "int"
      ]
     },
     "execution_count": 10,
     "metadata": {},
     "output_type": "execute_result"
    }
   ],
   "source": [
    "type(usernum)"
   ]
  },
  {
   "cell_type": "code",
   "execution_count": 11,
   "id": "0e3c25b8",
   "metadata": {},
   "outputs": [
    {
     "name": "stdout",
     "output_type": "stream",
     "text": [
      "Enter a number: gtf\n",
      "Not a number. Try again\n",
      "Enter a number: 52\n"
     ]
    }
   ],
   "source": [
    "# use exceptional handling to deal with the errors\n",
    "\n",
    "while(True):\n",
    "    try:\n",
    "        userdata = input('Enter a number: ')\n",
    "        usernum = int(userdata)\n",
    "    except ValueError:\n",
    "        print('Not a number. Try again')\n",
    "    else:\n",
    "        break"
   ]
  },
  {
   "cell_type": "markdown",
   "id": "f0312759",
   "metadata": {},
   "source": [
    "# Print to screen"
   ]
  },
  {
   "cell_type": "code",
   "execution_count": 12,
   "id": "d0cde5e6",
   "metadata": {},
   "outputs": [
    {
     "name": "stdout",
     "output_type": "stream",
     "text": [
      "Continue on the same line.\n",
      "Next line\n"
     ]
    }
   ],
   "source": [
    "print('Continue on the', end = ' ')  # add space no new line\n",
    "print('same line',end = '.\\n')  # add full stop ,new line\n",
    "print('Next line')"
   ]
  },
  {
   "cell_type": "code",
   "execution_count": 14,
   "id": "a8b932b3",
   "metadata": {},
   "outputs": [
    {
     "name": "stdout",
     "output_type": "stream",
     "text": [
      "x is 7 and y is 10 .\n"
     ]
    }
   ],
   "source": [
    "(x,y) = (7,10)\n",
    "print('x is',x,'and y is',y,'.') # here we have extra space after 10 and full stop"
   ]
  },
  {
   "cell_type": "code",
   "execution_count": 15,
   "id": "564ecd65",
   "metadata": {},
   "outputs": [
    {
     "name": "stdout",
     "output_type": "stream",
     "text": [
      "x is7and y is10.\n"
     ]
    }
   ],
   "source": [
    "print('x is',x,'and y is',y,'.',sep = '')# here sep do, no space due to ,"
   ]
  },
  {
   "cell_type": "code",
   "execution_count": 16,
   "id": "2475c382",
   "metadata": {},
   "outputs": [
    {
     "name": "stdout",
     "output_type": "stream",
     "text": [
      "x is 7 and y is 10.\n"
     ]
    }
   ],
   "source": [
    "print('x is ',x,' and y is ',y,'.',sep = '')"
   ]
  },
  {
   "cell_type": "markdown",
   "id": "90899faa",
   "metadata": {},
   "source": [
    "# Dealing with files"
   ]
  },
  {
   "cell_type": "markdown",
   "id": "ac898cb2",
   "metadata": {},
   "source": [
    "## Opening a file"
   ]
  },
  {
   "cell_type": "raw",
   "id": "d2f15f6f",
   "metadata": {},
   "source": [
    "fh = open(\"gcd.py\",\"r\") \n",
    "# FIRST argument to open file name\n",
    "     # can give a full path\n",
    "    \n",
    "# Second argument is mode of opening file\n",
    "    # Read, \"r\": opens a file of reading only\n",
    "    # Write, \"w\": creates an empty file to write to\n",
    "    # Append, \"a\": append to an existing file"
   ]
  },
  {
   "cell_type": "markdown",
   "id": "b6cd9392",
   "metadata": {},
   "source": [
    "## Reading through file handle"
   ]
  },
  {
   "cell_type": "raw",
   "id": "fac628fc",
   "metadata": {},
   "source": [
    "contents = fh.read()\n",
    "\n",
    "#Read entire file into name as a single string\n",
    "contents = = fh.readline()\n",
    "\n",
    "# Read one line into name-lines end with '\\n'\n",
    "    # string includes the '\\n', unlike input()\n",
    "contents = fh.readline()\n",
    "\n",
    "# Read entire file as list of strings\n",
    "    # Each string is one line, ending with '\\n'"
   ]
  },
  {
   "cell_type": "raw",
   "id": "b2291ccc",
   "metadata": {},
   "source": [
    "block = fh.read(12) - read a fixed number of charecter"
   ]
  },
  {
   "cell_type": "markdown",
   "id": "fd22a978",
   "metadata": {},
   "source": [
    "## Writing to file"
   ]
  },
  {
   "cell_type": "code",
   "execution_count": null,
   "id": "9433bb40",
   "metadata": {},
   "outputs": [],
   "source": []
  },
  {
   "cell_type": "code",
   "execution_count": null,
   "id": "4ced5c25",
   "metadata": {},
   "outputs": [],
   "source": []
  },
  {
   "cell_type": "code",
   "execution_count": null,
   "id": "3d7062c9",
   "metadata": {},
   "outputs": [],
   "source": []
  },
  {
   "cell_type": "code",
   "execution_count": null,
   "id": "918fb1ce",
   "metadata": {},
   "outputs": [],
   "source": []
  },
  {
   "cell_type": "code",
   "execution_count": null,
   "id": "f201ca7f",
   "metadata": {},
   "outputs": [],
   "source": []
  },
  {
   "cell_type": "markdown",
   "id": "adf9ebb8",
   "metadata": {},
   "source": [
    "# String Function"
   ]
  },
  {
   "cell_type": "raw",
   "id": "b8cd9162",
   "metadata": {},
   "source": [
    "# Strip whitespace\n",
    "s.rstrip() remove trailing whitespace\n",
    "\n",
    "for line in contents:\n",
    "    s = line.rstrip()\n",
    "    \n",
    "s.lstrip() removes leading whitespace\n",
    "s.strip() removes leading and trailing whitespace"
   ]
  },
  {
   "cell_type": "code",
   "execution_count": 24,
   "id": "7cab2a8c",
   "metadata": {},
   "outputs": [
    {
     "data": {
      "text/plain": [
       "'    hello        '"
      ]
     },
     "execution_count": 24,
     "metadata": {},
     "output_type": "execute_result"
    }
   ],
   "source": [
    "s = \"    hello        \"\n",
    "s"
   ]
  },
  {
   "cell_type": "code",
   "execution_count": 25,
   "id": "186867c7",
   "metadata": {},
   "outputs": [],
   "source": [
    "t = s.rstrip()"
   ]
  },
  {
   "cell_type": "code",
   "execution_count": 26,
   "id": "e6df7f35",
   "metadata": {},
   "outputs": [
    {
     "data": {
      "text/plain": [
       "'    hello'"
      ]
     },
     "execution_count": 26,
     "metadata": {},
     "output_type": "execute_result"
    }
   ],
   "source": [
    "t"
   ]
  },
  {
   "cell_type": "code",
   "execution_count": 27,
   "id": "910d7a0b",
   "metadata": {},
   "outputs": [],
   "source": [
    "t= s.lstrip()"
   ]
  },
  {
   "cell_type": "code",
   "execution_count": 28,
   "id": "b6f0d3f8",
   "metadata": {},
   "outputs": [
    {
     "data": {
      "text/plain": [
       "'hello        '"
      ]
     },
     "execution_count": 28,
     "metadata": {},
     "output_type": "execute_result"
    }
   ],
   "source": [
    "t"
   ]
  },
  {
   "cell_type": "code",
   "execution_count": 29,
   "id": "50601ebd",
   "metadata": {},
   "outputs": [],
   "source": [
    "t = s.strip()"
   ]
  },
  {
   "cell_type": "code",
   "execution_count": 30,
   "id": "c1b22871",
   "metadata": {},
   "outputs": [
    {
     "data": {
      "text/plain": [
       "'hello'"
      ]
     },
     "execution_count": 30,
     "metadata": {},
     "output_type": "execute_result"
    }
   ],
   "source": [
    "t"
   ]
  },
  {
   "cell_type": "markdown",
   "id": "a98e10ac",
   "metadata": {},
   "source": [
    "## Searching for text"
   ]
  },
  {
   "cell_type": "raw",
   "id": "38daa4c0",
   "metadata": {},
   "source": [
    "# Return first position in s where pattern occurs,-1 if no occurance of pattern\n",
    "s.find(pattern)\n",
    "\n",
    "# search for pattern in slice s[start:end]\n",
    "s.find(pattern,start,end)\n",
    "\n",
    "# Like find, but raise ValueError if pattern not found\n",
    "s.index(pattern), s.index(pattern,l,r)"
   ]
  },
  {
   "cell_type": "code",
   "execution_count": 31,
   "id": "2728fbd6",
   "metadata": {},
   "outputs": [],
   "source": [
    "s = 'brown fox gray dog brown fox'"
   ]
  },
  {
   "cell_type": "code",
   "execution_count": 32,
   "id": "4fd8924a",
   "metadata": {},
   "outputs": [
    {
     "data": {
      "text/plain": [
       "0"
      ]
     },
     "execution_count": 32,
     "metadata": {},
     "output_type": "execute_result"
    }
   ],
   "source": [
    "s.find(\"brown\")  # it return ero because index of brown is zero"
   ]
  },
  {
   "cell_type": "code",
   "execution_count": 33,
   "id": "a075d138",
   "metadata": {},
   "outputs": [
    {
     "data": {
      "text/plain": [
       "19"
      ]
     },
     "execution_count": 33,
     "metadata": {},
     "output_type": "execute_result"
    }
   ],
   "source": [
    "s.find(\"brown\",5,len(s)) # position of brown starting from index 5 upto len(s)"
   ]
  },
  {
   "cell_type": "code",
   "execution_count": 34,
   "id": "06df42cc",
   "metadata": {},
   "outputs": [
    {
     "data": {
      "text/plain": [
       "-1"
      ]
     },
     "execution_count": 34,
     "metadata": {},
     "output_type": "execute_result"
    }
   ],
   "source": [
    "s.find(\"cat\") # it give -1 because cat isnot available"
   ]
  },
  {
   "cell_type": "markdown",
   "id": "018a7e75",
   "metadata": {},
   "source": [
    "## Search and Replace"
   ]
  },
  {
   "cell_type": "raw",
   "id": "64ae120c",
   "metadata": {},
   "source": [
    "# Returns copy of s with each occurance of fromstr replace by tostr\n",
    "s.replace(fromstr,tostr)\n",
    "\n",
    "# Replace at most first n copy\n",
    "# Note that s itself unchanges - string are immutable\n",
    "s.replace(fromstr,tostr,n)\n"
   ]
  },
  {
   "cell_type": "code",
   "execution_count": 36,
   "id": "7d7b2136",
   "metadata": {},
   "outputs": [],
   "source": [
    "s = 'brown fox gray dog brown fox'"
   ]
  },
  {
   "cell_type": "code",
   "execution_count": 37,
   "id": "a393e101",
   "metadata": {},
   "outputs": [
    {
     "data": {
      "text/plain": [
       "'black fox gray dog black fox'"
      ]
     },
     "execution_count": 37,
     "metadata": {},
     "output_type": "execute_result"
    }
   ],
   "source": [
    "s.replace('brown','black')"
   ]
  },
  {
   "cell_type": "code",
   "execution_count": 38,
   "id": "fc5cd08b",
   "metadata": {},
   "outputs": [
    {
     "data": {
      "text/plain": [
       "'black fox gray dog brown fox'"
      ]
     },
     "execution_count": 38,
     "metadata": {},
     "output_type": "execute_result"
    }
   ],
   "source": [
    "s.replace('brown','black',1)"
   ]
  },
  {
   "cell_type": "code",
   "execution_count": 39,
   "id": "11594d61",
   "metadata": {},
   "outputs": [
    {
     "data": {
      "text/plain": [
       "'black fox gray dog black fox'"
      ]
     },
     "execution_count": 39,
     "metadata": {},
     "output_type": "execute_result"
    }
   ],
   "source": [
    "s.replace('brown','black',2)"
   ]
  },
  {
   "cell_type": "code",
   "execution_count": 40,
   "id": "d4192857",
   "metadata": {},
   "outputs": [],
   "source": [
    "t = 'ababa'"
   ]
  },
  {
   "cell_type": "code",
   "execution_count": 42,
   "id": "4fdece99",
   "metadata": {},
   "outputs": [
    {
     "data": {
      "text/plain": [
       "'DDba'"
      ]
     },
     "execution_count": 42,
     "metadata": {},
     "output_type": "execute_result"
    }
   ],
   "source": [
    "t.replace('aba','DD')"
   ]
  },
  {
   "cell_type": "code",
   "execution_count": 43,
   "id": "7ac75685",
   "metadata": {},
   "outputs": [],
   "source": [
    "t = 'abaaba'"
   ]
  },
  {
   "cell_type": "code",
   "execution_count": 44,
   "id": "ac3106b6",
   "metadata": {},
   "outputs": [
    {
     "data": {
      "text/plain": [
       "'DDDD'"
      ]
     },
     "execution_count": 44,
     "metadata": {},
     "output_type": "execute_result"
    }
   ],
   "source": [
    "t.replace('aba','DD')"
   ]
  },
  {
   "cell_type": "markdown",
   "id": "98dfe8b2",
   "metadata": {},
   "source": [
    "## Splitting a string"
   ]
  },
  {
   "cell_type": "raw",
   "id": "cc10f281",
   "metadata": {},
   "source": [
    "# Export spreadsheet as \"comma seprated value\" text value\n",
    "# split the line into chunk between commas\n",
    "columns = s.split(\",\")  # can split using any seprated string\n",
    "\n",
    "# split into atmost n chunks\n",
    "columns = s.split(\" : \",n)"
   ]
  },
  {
   "cell_type": "code",
   "execution_count": 45,
   "id": "aadd27ca",
   "metadata": {},
   "outputs": [],
   "source": [
    "csvline = \"6,7,8\""
   ]
  },
  {
   "cell_type": "code",
   "execution_count": 46,
   "id": "65b7f544",
   "metadata": {},
   "outputs": [
    {
     "data": {
      "text/plain": [
       "['6', '7', '8']"
      ]
     },
     "execution_count": 46,
     "metadata": {},
     "output_type": "execute_result"
    }
   ],
   "source": [
    "csvline.split(\",\")"
   ]
  },
  {
   "cell_type": "code",
   "execution_count": 47,
   "id": "7d6b11fe",
   "metadata": {},
   "outputs": [
    {
     "data": {
      "text/plain": [
       "['6', '7,8']"
      ]
     },
     "execution_count": 47,
     "metadata": {},
     "output_type": "execute_result"
    }
   ],
   "source": [
    "csvline.split(\",\",1)"
   ]
  },
  {
   "cell_type": "code",
   "execution_count": 52,
   "id": "523692f8",
   "metadata": {},
   "outputs": [],
   "source": [
    "csvline = \"6#?7#?8\""
   ]
  },
  {
   "cell_type": "code",
   "execution_count": 53,
   "id": "5f54bac8",
   "metadata": {},
   "outputs": [
    {
     "data": {
      "text/plain": [
       "['6', '7', '8']"
      ]
     },
     "execution_count": 53,
     "metadata": {},
     "output_type": "execute_result"
    }
   ],
   "source": [
    "csvline.split(\"#?\")"
   ]
  },
  {
   "cell_type": "markdown",
   "id": "19916458",
   "metadata": {},
   "source": [
    "## Joining string"
   ]
  },
  {
   "cell_type": "raw",
   "id": "1f43e0c1",
   "metadata": {},
   "source": [
    "# Recombine a list of string using seperator\n",
    "columns = s.split(\",\")\n",
    "joinstring = \",\"\n",
    "csvline = joinstring.join(columns)"
   ]
  },
  {
   "cell_type": "code",
   "execution_count": 54,
   "id": "2a460ba8",
   "metadata": {},
   "outputs": [],
   "source": [
    "date = \"06\"\n",
    "month = \"07\"\n",
    "year = \"2022\"\n",
    "today = \"-\".join([date,month,year])"
   ]
  },
  {
   "cell_type": "code",
   "execution_count": 55,
   "id": "38e51172",
   "metadata": {},
   "outputs": [
    {
     "data": {
      "text/plain": [
       "'06-07-2022'"
      ]
     },
     "execution_count": 55,
     "metadata": {},
     "output_type": "execute_result"
    }
   ],
   "source": [
    "today"
   ]
  },
  {
   "cell_type": "markdown",
   "id": "2b0af44c",
   "metadata": {},
   "source": [
    "## Converting case"
   ]
  },
  {
   "cell_type": "raw",
   "id": "c9ca1668",
   "metadata": {},
   "source": [
    "# Convert lower case to upper case\n",
    "s.capitalize() # return new string with first letter uppercase,rest lower\n",
    "s.lower() # convert all upper case to lower case\n",
    "s.upper() # convert all lower case to upper case\n",
    "s.title()  # it capitalize each word\n",
    "s.swapcase()  # will invert lower case to upper case and vice versa\n"
   ]
  },
  {
   "cell_type": "markdown",
   "id": "60acb579",
   "metadata": {},
   "source": [
    "## Resizing string"
   ]
  },
  {
   "cell_type": "raw",
   "id": "e5ccb256",
   "metadata": {},
   "source": [
    "# Return string of length n with s centred, rest blank\n",
    "s.center(n)\n",
    "\n",
    "# Fill the rest with * instead of blanks\n",
    "s.center(n,\"*\")\n",
    "\n",
    "# Similar,just lrft/right justify s in returned string\n",
    "s.ljust(n)\n",
    "s.ljust(n,\"*\")\n",
    "s.rjust(n)"
   ]
  },
  {
   "cell_type": "code",
   "execution_count": 58,
   "id": "5944c021",
   "metadata": {},
   "outputs": [],
   "source": [
    "s = \"hello\""
   ]
  },
  {
   "cell_type": "code",
   "execution_count": 59,
   "id": "1b2973d6",
   "metadata": {},
   "outputs": [
    {
     "data": {
      "text/plain": [
       "'                      hello                       '"
      ]
     },
     "execution_count": 59,
     "metadata": {},
     "output_type": "execute_result"
    }
   ],
   "source": [
    "s.center(50)"
   ]
  },
  {
   "cell_type": "code",
   "execution_count": 62,
   "id": "9a1ec5a2",
   "metadata": {},
   "outputs": [
    {
     "data": {
      "text/plain": [
       "'----------------------hello-----------------------'"
      ]
     },
     "execution_count": 62,
     "metadata": {},
     "output_type": "execute_result"
    }
   ],
   "source": [
    "s.center(50,\"-\")"
   ]
  },
  {
   "cell_type": "code",
   "execution_count": 63,
   "id": "1ccd4624",
   "metadata": {},
   "outputs": [
    {
     "data": {
      "text/plain": [
       "'**********************hello***********************'"
      ]
     },
     "execution_count": 63,
     "metadata": {},
     "output_type": "execute_result"
    }
   ],
   "source": [
    "s.center(50,\"*\")"
   ]
  },
  {
   "cell_type": "code",
   "execution_count": 64,
   "id": "c5489c83",
   "metadata": {},
   "outputs": [
    {
     "data": {
      "text/plain": [
       "'hello---------------------------------------------'"
      ]
     },
     "execution_count": 64,
     "metadata": {},
     "output_type": "execute_result"
    }
   ],
   "source": [
    "s.ljust(50,\"-\")"
   ]
  },
  {
   "cell_type": "code",
   "execution_count": 65,
   "id": "2820bdc5",
   "metadata": {},
   "outputs": [
    {
     "data": {
      "text/plain": [
       "'---------------------------------------------hello'"
      ]
     },
     "execution_count": 65,
     "metadata": {},
     "output_type": "execute_result"
    }
   ],
   "source": [
    "s.rjust(50,\"-\")"
   ]
  },
  {
   "cell_type": "raw",
   "id": "5f0047da",
   "metadata": {},
   "source": [
    "# to check nature of charecters instring\n",
    "s.isalpha()\n",
    "s.isnumeric()"
   ]
  },
  {
   "cell_type": "code",
   "execution_count": 66,
   "id": "60c6ceb6",
   "metadata": {},
   "outputs": [
    {
     "data": {
      "text/plain": [
       "True"
      ]
     },
     "execution_count": 66,
     "metadata": {},
     "output_type": "execute_result"
    }
   ],
   "source": [
    "s.isalpha()"
   ]
  },
  {
   "cell_type": "code",
   "execution_count": 67,
   "id": "cbc152db",
   "metadata": {},
   "outputs": [
    {
     "data": {
      "text/plain": [
       "False"
      ]
     },
     "execution_count": 67,
     "metadata": {},
     "output_type": "execute_result"
    }
   ],
   "source": [
    "s.isnumeric()"
   ]
  },
  {
   "cell_type": "markdown",
   "id": "b9ffcb8d",
   "metadata": {},
   "source": [
    "# Formatted printing"
   ]
  },
  {
   "cell_type": "code",
   "execution_count": 68,
   "id": "7d3a193e",
   "metadata": {},
   "outputs": [
    {
     "data": {
      "text/plain": [
       "'First: 47, second: 11'"
      ]
     },
     "execution_count": 68,
     "metadata": {},
     "output_type": "execute_result"
    }
   ],
   "source": [
    "\"First: {0}, second: {1}\".format(47,11)  # here position under {} is important 0 for first argument "
   ]
  },
  {
   "cell_type": "code",
   "execution_count": 70,
   "id": "79d04f07",
   "metadata": {},
   "outputs": [
    {
     "data": {
      "text/plain": [
       "'second: 11, First: 47'"
      ]
     },
     "execution_count": 70,
     "metadata": {},
     "output_type": "execute_result"
    }
   ],
   "source": [
    "\"second: {1}, First: {0}\".format(47,11)"
   ]
  },
  {
   "cell_type": "code",
   "execution_count": 72,
   "id": "507d3f90",
   "metadata": {},
   "outputs": [
    {
     "data": {
      "text/plain": [
       "'One: 47, two: 11'"
      ]
     },
     "execution_count": 72,
     "metadata": {},
     "output_type": "execute_result"
    }
   ],
   "source": [
    "# Can also replace argument by name\n",
    "\"One: {f}, two: {s}\".format(f = 47,s = 11)"
   ]
  },
  {
   "cell_type": "code",
   "execution_count": 74,
   "id": "1e33d49a",
   "metadata": {},
   "outputs": [
    {
     "data": {
      "text/plain": [
       "'One: 47, two: 11'"
      ]
     },
     "execution_count": 74,
     "metadata": {},
     "output_type": "execute_result"
    }
   ],
   "source": [
    "\"One: {f}, two: {s}\".format(s = 11,f = 47)"
   ]
  },
  {
   "cell_type": "markdown",
   "id": "73783448",
   "metadata": {},
   "source": [
    "### Real formatting"
   ]
  },
  {
   "cell_type": "code",
   "execution_count": 75,
   "id": "ed9902a2",
   "metadata": {},
   "outputs": [
    {
     "data": {
      "text/plain": [
       "'Value:   4'"
      ]
     },
     "execution_count": 75,
     "metadata": {},
     "output_type": "execute_result"
    }
   ],
   "source": [
    "\"Value: {0:3d}\".format(4)\n",
    "# 3d describe how to display the value 4\n",
    "# d is code species that 4 should be trated as an integer value\n",
    "# 3 is the width of the area to show 4"
   ]
  },
  {
   "cell_type": "code",
   "execution_count": 76,
   "id": "d2331901",
   "metadata": {},
   "outputs": [
    {
     "data": {
      "text/plain": [
       "'Value:  4'"
      ]
     },
     "execution_count": 76,
     "metadata": {},
     "output_type": "execute_result"
    }
   ],
   "source": [
    "\"Value:{0:3d}\".format(4)"
   ]
  },
  {
   "cell_type": "code",
   "execution_count": 78,
   "id": "bc4b4f4b",
   "metadata": {},
   "outputs": [
    {
     "data": {
      "text/plain": [
       "'Value:  47.52'"
      ]
     },
     "execution_count": 78,
     "metadata": {},
     "output_type": "execute_result"
    }
   ],
   "source": [
    "\"Value: {0:6.2f}\".format(47.523)\n",
    "# 6.2f describe how to display the value 47.523\n",
    "# f is code species that 47.523 should be trated as a floating point value\n",
    "# 6 is the width of the area to show 47.523\n",
    "# 2 is number of digit to show after decimal point"
   ]
  },
  {
   "cell_type": "markdown",
   "id": "3701e01c",
   "metadata": {},
   "source": [
    "# pass, del(), none"
   ]
  },
  {
   "cell_type": "code",
   "execution_count": 80,
   "id": "0ea42942",
   "metadata": {},
   "outputs": [
    {
     "name": "stdout",
     "output_type": "stream",
     "text": [
      "Enter a number: jghg\n",
      "Enter a number: hjf\n",
      "Enter a number: 66\n"
     ]
    }
   ],
   "source": [
    "# what if we just want to repeat the loop on an error?\n",
    "\n",
    "while(True):\n",
    "    try:\n",
    "        userdata = input('Enter a number: ')\n",
    "        usernum = int(userdata)\n",
    "    except ValueError:\n",
    "        pass      # do nothing\n",
    "    else:\n",
    "        break"
   ]
  },
  {
   "cell_type": "code",
   "execution_count": 81,
   "id": "f3703d2e",
   "metadata": {},
   "outputs": [],
   "source": [
    "# Removing a list entry\n",
    "l = [1,23,6,3,5,2,6,5,2,87,9,8]"
   ]
  },
  {
   "cell_type": "code",
   "execution_count": 82,
   "id": "b8dd4ece",
   "metadata": {},
   "outputs": [],
   "source": [
    "# want to remove l[4]\n",
    "del(l[4])"
   ]
  },
  {
   "cell_type": "code",
   "execution_count": 83,
   "id": "4b86a5ac",
   "metadata": {},
   "outputs": [
    {
     "data": {
      "text/plain": [
       "[1, 23, 6, 3, 2, 6, 5, 2, 87, 9, 8]"
      ]
     },
     "execution_count": 83,
     "metadata": {},
     "output_type": "execute_result"
    }
   ],
   "source": [
    "l"
   ]
  },
  {
   "cell_type": "code",
   "execution_count": 84,
   "id": "f0f70f54",
   "metadata": {},
   "outputs": [],
   "source": [
    "l = list(range(10))"
   ]
  },
  {
   "cell_type": "code",
   "execution_count": 85,
   "id": "68fc538c",
   "metadata": {},
   "outputs": [
    {
     "data": {
      "text/plain": [
       "[0, 1, 2, 3, 5, 6, 7, 8, 9]"
      ]
     },
     "execution_count": 85,
     "metadata": {},
     "output_type": "execute_result"
    }
   ],
   "source": [
    "del(l[4])\n",
    "l"
   ]
  },
  {
   "cell_type": "code",
   "execution_count": 86,
   "id": "f118825d",
   "metadata": {},
   "outputs": [],
   "source": [
    "# also work for dictionary\n",
    "#del(l[k]) removes the key k and it associated value"
   ]
  },
  {
   "cell_type": "code",
   "execution_count": 87,
   "id": "61039a4d",
   "metadata": {},
   "outputs": [
    {
     "ename": "NameError",
     "evalue": "name 'x' is not defined",
     "output_type": "error",
     "traceback": [
      "\u001b[1;31m---------------------------------------------------------------------------\u001b[0m",
      "\u001b[1;31mNameError\u001b[0m                                 Traceback (most recent call last)",
      "\u001b[1;32m~\\AppData\\Local\\Temp\\ipykernel_9420\\1996296198.py\u001b[0m in \u001b[0;36m<module>\u001b[1;34m\u001b[0m\n\u001b[0;32m      1\u001b[0m \u001b[0mx\u001b[0m\u001b[1;33m=\u001b[0m \u001b[1;36m7\u001b[0m\u001b[1;33m\u001b[0m\u001b[1;33m\u001b[0m\u001b[0m\n\u001b[0;32m      2\u001b[0m \u001b[1;32mdel\u001b[0m\u001b[1;33m(\u001b[0m\u001b[0mx\u001b[0m\u001b[1;33m)\u001b[0m\u001b[1;33m\u001b[0m\u001b[1;33m\u001b[0m\u001b[0m\n\u001b[1;32m----> 3\u001b[1;33m \u001b[0my\u001b[0m \u001b[1;33m=\u001b[0m \u001b[0mx\u001b[0m\u001b[1;33m+\u001b[0m\u001b[1;36m5\u001b[0m\u001b[1;33m\u001b[0m\u001b[1;33m\u001b[0m\u001b[0m\n\u001b[0m",
      "\u001b[1;31mNameError\u001b[0m: name 'x' is not defined"
     ]
    }
   ],
   "source": [
    "x= 7\n",
    "del(x)\n",
    "y = x+5  # because x is deleted"
   ]
  },
  {
   "cell_type": "code",
   "execution_count": 93,
   "id": "2abb217c",
   "metadata": {},
   "outputs": [],
   "source": [
    "# Checking undefined name\n",
    "# Assign a value to x only if x is undefined\n",
    "try:\n",
    "    x\n",
    "except NameError:\n",
    "    x=5"
   ]
  },
  {
   "cell_type": "code",
   "execution_count": 94,
   "id": "444507dd",
   "metadata": {},
   "outputs": [],
   "source": [
    "y = x+5"
   ]
  },
  {
   "cell_type": "code",
   "execution_count": 95,
   "id": "e063aba3",
   "metadata": {},
   "outputs": [
    {
     "data": {
      "text/plain": [
       "10"
      ]
     },
     "execution_count": 95,
     "metadata": {},
     "output_type": "execute_result"
    }
   ],
   "source": [
    "y"
   ]
  },
  {
   "cell_type": "markdown",
   "id": "7564f7d8",
   "metadata": {},
   "source": [
    "# Backtracking, n queens"
   ]
  },
  {
   "cell_type": "markdown",
   "id": "7c687e99",
   "metadata": {},
   "source": [
    "N queens: Place N queens on a NxN chess board so that none attack each other"
   ]
  },
  {
   "cell_type": "markdown",
   "id": "0d7a65c6",
   "metadata": {},
   "source": [
    "N= 2,3 impossible"
   ]
  },
  {
   "cell_type": "markdown",
   "id": "901e6ba4",
   "metadata": {},
   "source": [
    "N= 4 possible, And all bigger N as well"
   ]
  },
  {
   "cell_type": "raw",
   "id": "45807344",
   "metadata": {},
   "source": [
    "# overall structure\n",
    "def placequeen(i,board):  # Trying row i\n",
    "    for each c such that (i,c) is available:\n",
    "        place queen at(i,c) and update board\n",
    "        if i == n-1:\n",
    "            return(True)  # Last queen has been placed\n",
    "        else:\n",
    "            extendsoln = placequeen(i+1,board)\n",
    "        if extendsoln:\n",
    "            return(True)   # this solution extends fully\n",
    "        else:\n",
    "            undo this move and update board\n",
    "    else:\n",
    "        return(False)   # Row i filed\n",
    "   "
   ]
  },
  {
   "cell_type": "markdown",
   "id": "e58319c0",
   "metadata": {},
   "source": [
    "# global scope, nested function"
   ]
  },
  {
   "cell_type": "code",
   "execution_count": 114,
   "id": "50e84b53",
   "metadata": {},
   "outputs": [
    {
     "name": "stdout",
     "output_type": "stream",
     "text": [
      "7\n"
     ]
    }
   ],
   "source": [
    "def f():\n",
    "    y = x\n",
    "    print(y)\n",
    "    \n",
    "x=7\n",
    "f()"
   ]
  },
  {
   "cell_type": "code",
   "execution_count": 115,
   "id": "c4d974c6",
   "metadata": {},
   "outputs": [
    {
     "ename": "UnboundLocalError",
     "evalue": "local variable 'x' referenced before assignment",
     "output_type": "error",
     "traceback": [
      "\u001b[1;31m---------------------------------------------------------------------------\u001b[0m",
      "\u001b[1;31mUnboundLocalError\u001b[0m                         Traceback (most recent call last)",
      "\u001b[1;32m~\\AppData\\Local\\Temp\\ipykernel_9420\\276970109.py\u001b[0m in \u001b[0;36m<module>\u001b[1;34m\u001b[0m\n\u001b[0;32m      4\u001b[0m     \u001b[0mx\u001b[0m\u001b[1;33m=\u001b[0m \u001b[1;36m22\u001b[0m\u001b[1;33m\u001b[0m\u001b[1;33m\u001b[0m\u001b[0m\n\u001b[0;32m      5\u001b[0m \u001b[0mx\u001b[0m\u001b[1;33m=\u001b[0m\u001b[1;36m7\u001b[0m\u001b[1;33m\u001b[0m\u001b[1;33m\u001b[0m\u001b[0m\n\u001b[1;32m----> 6\u001b[1;33m \u001b[0mf\u001b[0m\u001b[1;33m(\u001b[0m\u001b[1;33m)\u001b[0m\u001b[1;33m\u001b[0m\u001b[1;33m\u001b[0m\u001b[0m\n\u001b[0m",
      "\u001b[1;32m~\\AppData\\Local\\Temp\\ipykernel_9420\\276970109.py\u001b[0m in \u001b[0;36mf\u001b[1;34m()\u001b[0m\n\u001b[0;32m      1\u001b[0m \u001b[1;32mdef\u001b[0m \u001b[0mf\u001b[0m\u001b[1;33m(\u001b[0m\u001b[1;33m)\u001b[0m\u001b[1;33m:\u001b[0m\u001b[1;33m\u001b[0m\u001b[1;33m\u001b[0m\u001b[0m\n\u001b[1;32m----> 2\u001b[1;33m     \u001b[0my\u001b[0m \u001b[1;33m=\u001b[0m \u001b[0mx\u001b[0m\u001b[1;33m\u001b[0m\u001b[1;33m\u001b[0m\u001b[0m\n\u001b[0m\u001b[0;32m      3\u001b[0m     \u001b[0mprint\u001b[0m\u001b[1;33m(\u001b[0m\u001b[0my\u001b[0m\u001b[1;33m)\u001b[0m\u001b[1;33m\u001b[0m\u001b[1;33m\u001b[0m\u001b[0m\n\u001b[0;32m      4\u001b[0m     \u001b[0mx\u001b[0m\u001b[1;33m=\u001b[0m \u001b[1;36m22\u001b[0m\u001b[1;33m\u001b[0m\u001b[1;33m\u001b[0m\u001b[0m\n\u001b[0;32m      5\u001b[0m \u001b[0mx\u001b[0m\u001b[1;33m=\u001b[0m\u001b[1;36m7\u001b[0m\u001b[1;33m\u001b[0m\u001b[1;33m\u001b[0m\u001b[0m\n",
      "\u001b[1;31mUnboundLocalError\u001b[0m: local variable 'x' referenced before assignment"
     ]
    }
   ],
   "source": [
    "def f():\n",
    "    y = x\n",
    "    print(y)\n",
    "    x= 22\n",
    "x=7\n",
    "f()"
   ]
  },
  {
   "cell_type": "code",
   "execution_count": 118,
   "id": "471f8563",
   "metadata": {},
   "outputs": [
    {
     "name": "stdout",
     "output_type": "stream",
     "text": [
      "7\n"
     ]
    }
   ],
   "source": [
    "def f():\n",
    "    y = x[0]\n",
    "    print(y)\n",
    "    x[0]= 22\n",
    "x=[7]\n",
    "f()"
   ]
  },
  {
   "cell_type": "code",
   "execution_count": 119,
   "id": "9c6a640c",
   "metadata": {},
   "outputs": [
    {
     "name": "stdout",
     "output_type": "stream",
     "text": [
      "7\n"
     ]
    }
   ],
   "source": [
    "def f():\n",
    "    global x\n",
    "    y = x\n",
    "    print(y)\n",
    "    x= 22\n",
    "\n",
    "x=7\n",
    "f()"
   ]
  },
  {
   "cell_type": "code",
   "execution_count": 120,
   "id": "39273b9c",
   "metadata": {},
   "outputs": [
    {
     "name": "stdout",
     "output_type": "stream",
     "text": [
      "7\n",
      "22\n"
     ]
    }
   ],
   "source": [
    "def f():\n",
    "    global x\n",
    "    y = x\n",
    "    print(y)\n",
    "    x= 22\n",
    "\n",
    "x=7\n",
    "f()\n",
    "print(x)"
   ]
  },
  {
   "cell_type": "markdown",
   "id": "22dc33f3",
   "metadata": {},
   "source": [
    "# Nest function defination"
   ]
  },
  {
   "cell_type": "code",
   "execution_count": 121,
   "id": "2ca9742f",
   "metadata": {},
   "outputs": [
    {
     "name": "stdout",
     "output_type": "stream",
     "text": [
      "22\n"
     ]
    }
   ],
   "source": [
    "def f():\n",
    "    def g(a):\n",
    "        return(a+1)\n",
    "    \n",
    "    def h(b):\n",
    "        return(2*b)\n",
    "    \n",
    "    global x\n",
    "    y = g(x) + h(x)\n",
    "    print(y)\n",
    "    x = 22\n",
    "    \n",
    "    \n",
    "x = 7\n",
    "f()\n",
    "    \n",
    "    "
   ]
  },
  {
   "cell_type": "markdown",
   "id": "b781b65e",
   "metadata": {},
   "source": [
    "# sets, stacks,queues"
   ]
  },
  {
   "cell_type": "markdown",
   "id": "3db7b863",
   "metadata": {},
   "source": [
    "### Sets"
   ]
  },
  {
   "cell_type": "code",
   "execution_count": 122,
   "id": "a7405370",
   "metadata": {},
   "outputs": [],
   "source": [
    "# Set\n",
    "colours = {\"red\",\"black\",\"red\",\"green\"}"
   ]
  },
  {
   "cell_type": "code",
   "execution_count": 123,
   "id": "b0c8ae6c",
   "metadata": {},
   "outputs": [
    {
     "data": {
      "text/plain": [
       "{'black', 'green', 'red'}"
      ]
     },
     "execution_count": 123,
     "metadata": {},
     "output_type": "execute_result"
    }
   ],
   "source": [
    "colours"
   ]
  },
  {
   "cell_type": "code",
   "execution_count": 124,
   "id": "0443dbe7",
   "metadata": {},
   "outputs": [
    {
     "data": {
      "text/plain": [
       "True"
      ]
     },
     "execution_count": 124,
     "metadata": {},
     "output_type": "execute_result"
    }
   ],
   "source": [
    "\"black\" in colours"
   ]
  },
  {
   "cell_type": "code",
   "execution_count": 125,
   "id": "32dde54f",
   "metadata": {},
   "outputs": [],
   "source": [
    "# convert a list into set\n",
    "numbers = set([0,1,3,2,1,4])"
   ]
  },
  {
   "cell_type": "code",
   "execution_count": 126,
   "id": "000c83b0",
   "metadata": {},
   "outputs": [
    {
     "name": "stdout",
     "output_type": "stream",
     "text": [
      "{0, 1, 2, 3, 4}\n"
     ]
    }
   ],
   "source": [
    "print(numbers)"
   ]
  },
  {
   "cell_type": "code",
   "execution_count": 127,
   "id": "eacbcf01",
   "metadata": {},
   "outputs": [],
   "source": [
    "letters = set('bannana')"
   ]
  },
  {
   "cell_type": "code",
   "execution_count": 128,
   "id": "8e0abc0c",
   "metadata": {},
   "outputs": [
    {
     "data": {
      "text/plain": [
       "{'a', 'b', 'n'}"
      ]
     },
     "execution_count": 128,
     "metadata": {},
     "output_type": "execute_result"
    }
   ],
   "source": [
    "letters"
   ]
  },
  {
   "cell_type": "code",
   "execution_count": 129,
   "id": "c546bdc6",
   "metadata": {},
   "outputs": [],
   "source": [
    "odd = set([1,3,5,7,9,11])\n",
    "prime = set([2,3,5,7,11])"
   ]
  },
  {
   "cell_type": "code",
   "execution_count": 130,
   "id": "c3610c92",
   "metadata": {},
   "outputs": [
    {
     "data": {
      "text/plain": [
       "{1, 2, 3, 5, 7, 9, 11}"
      ]
     },
     "execution_count": 130,
     "metadata": {},
     "output_type": "execute_result"
    }
   ],
   "source": [
    "# Union\n",
    "odd | prime"
   ]
  },
  {
   "cell_type": "code",
   "execution_count": 131,
   "id": "36570993",
   "metadata": {},
   "outputs": [
    {
     "data": {
      "text/plain": [
       "{3, 5, 7, 11}"
      ]
     },
     "execution_count": 131,
     "metadata": {},
     "output_type": "execute_result"
    }
   ],
   "source": [
    "# intersection\n",
    "odd & prime"
   ]
  },
  {
   "cell_type": "code",
   "execution_count": 132,
   "id": "b261d6e6",
   "metadata": {},
   "outputs": [
    {
     "data": {
      "text/plain": [
       "{1, 9}"
      ]
     },
     "execution_count": 132,
     "metadata": {},
     "output_type": "execute_result"
    }
   ],
   "source": [
    "# set difference\n",
    "odd - prime"
   ]
  },
  {
   "cell_type": "code",
   "execution_count": 133,
   "id": "748a977c",
   "metadata": {},
   "outputs": [
    {
     "data": {
      "text/plain": [
       "{1, 2, 9}"
      ]
     },
     "execution_count": 133,
     "metadata": {},
     "output_type": "execute_result"
    }
   ],
   "source": [
    "# Exclusive or ( exactly in one set)\n",
    "odd^prime"
   ]
  },
  {
   "cell_type": "markdown",
   "id": "8cc5b7fd",
   "metadata": {},
   "source": [
    "### Stacks"
   ]
  },
  {
   "cell_type": "markdown",
   "id": "34f578f5",
   "metadata": {},
   "source": [
    "Stack is a last-in,first-out list\n",
    "\n",
    "     push(s,x) - add x to stack s\n",
    "     \n",
    "     pop(s) - return most recent added element"
   ]
  },
  {
   "cell_type": "raw",
   "id": "5f7e4a64",
   "metadata": {},
   "source": [
    "#  Maintain stack as list, push and pop from right\n",
    "push(s,x) is s.append(x)\n",
    "s.pop() # Python built-in, return last element"
   ]
  },
  {
   "cell_type": "markdown",
   "id": "9db36190",
   "metadata": {},
   "source": [
    "# Queues\n",
    "First-in,first-out sequences"
   ]
  },
  {
   "cell_type": "raw",
   "id": "7dcb73cd",
   "metadata": {},
   "source": [
    "addq(q,x) # add x to rear of queue q\n",
    "removeq(q) # removes element at head of q"
   ]
  },
  {
   "cell_type": "markdown",
   "id": "c756c334",
   "metadata": {},
   "source": [
    "# Abstract datatypes, classes and objects"
   ]
  },
  {
   "cell_type": "raw",
   "id": "8b30baf2",
   "metadata": {},
   "source": [
    "# class and object \n",
    "class Heap:\n",
    "    def __init__(self,l):\n",
    "        # create heap\n",
    "        # from list l\n",
    "    \n",
    "    def insert(self,x):\n",
    "        # insert x into heap\n",
    "        \n",
    "    def delete_max(self,x):\n",
    "        # return max element\n",
    "    "
   ]
  },
  {
   "cell_type": "code",
   "execution_count": 135,
   "id": "576b3a53",
   "metadata": {},
   "outputs": [],
   "source": [
    "class Heap:\n",
    "    def __init__(self,l):\n",
    "        l = [14,32,15]\n",
    "        h = Heap(l)\n",
    "    \n",
    "    def insert(self,x):\n",
    "        h.insert(17)\n",
    "        h.insert(18)\n",
    "        \n",
    "    def delete_max(self,x):\n",
    "        h.delete_max()\n",
    "    "
   ]
  }
 ],
 "metadata": {
  "kernelspec": {
   "display_name": "Python 3 (ipykernel)",
   "language": "python",
   "name": "python3"
  },
  "language_info": {
   "codemirror_mode": {
    "name": "ipython",
    "version": 3
   },
   "file_extension": ".py",
   "mimetype": "text/x-python",
   "name": "python",
   "nbconvert_exporter": "python",
   "pygments_lexer": "ipython3",
   "version": "3.9.7"
  }
 },
 "nbformat": 4,
 "nbformat_minor": 5
}
